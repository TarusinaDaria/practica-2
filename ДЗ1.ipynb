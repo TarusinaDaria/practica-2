{
  "cells": [
    {
      "cell_type": "markdown",
      "metadata": {
        "id": "view-in-github",
        "colab_type": "text"
      },
      "source": [
        "<a href=\"https://colab.research.google.com/github/TarusinaDaria/practica-2/blob/main/%D0%94%D0%971.ipynb\" target=\"_parent\"><img src=\"https://colab.research.google.com/assets/colab-badge.svg\" alt=\"Open In Colab\"/></a>"
      ]
    },
    {
      "cell_type": "markdown",
      "id": "ad1d1330",
      "metadata": {
        "id": "ad1d1330"
      },
      "source": [
        "# 100 numpy exercises\n",
        "\n",
        "\n"
      ]
    },
    {
      "cell_type": "markdown",
      "id": "1d620162",
      "metadata": {
        "id": "1d620162"
      },
      "source": [
        "File automatically generated. See the documentation to update questions/answers/hints programmatically."
      ]
    },
    {
      "cell_type": "markdown",
      "id": "8574d627",
      "metadata": {
        "id": "8574d627"
      },
      "source": [
        "Run the `initialize.py` module, then for each question you can query the\n",
        "answer or an hint with `hint(n)` or `answer(n)` for `n` question number."
      ]
    },
    {
      "cell_type": "markdown",
      "id": "954c5d8f",
      "metadata": {
        "id": "954c5d8f"
      },
      "source": [
        "#### 1. Import the numpy package under the name `np` (★☆☆)"
      ]
    },
    {
      "cell_type": "code",
      "execution_count": null,
      "id": "4006c08e",
      "metadata": {
        "id": "4006c08e"
      },
      "outputs": [],
      "source": [
        "import numpy as np"
      ]
    },
    {
      "cell_type": "markdown",
      "id": "88e34f09",
      "metadata": {
        "id": "88e34f09"
      },
      "source": [
        "#### 2. Print the numpy version and the configuration (★☆☆)"
      ]
    },
    {
      "cell_type": "code",
      "execution_count": null,
      "id": "b1122a25",
      "metadata": {
        "colab": {
          "base_uri": "https://localhost:8080/"
        },
        "id": "b1122a25",
        "outputId": "7564cac7-8bb6-4f0d-eee1-35368f014480"
      },
      "outputs": [
        {
          "output_type": "stream",
          "name": "stdout",
          "text": [
            "1.22.4\n",
            "openblas64__info:\n",
            "    libraries = ['openblas64_', 'openblas64_']\n",
            "    library_dirs = ['/usr/local/lib']\n",
            "    language = c\n",
            "    define_macros = [('HAVE_CBLAS', None), ('BLAS_SYMBOL_SUFFIX', '64_'), ('HAVE_BLAS_ILP64', None)]\n",
            "    runtime_library_dirs = ['/usr/local/lib']\n",
            "blas_ilp64_opt_info:\n",
            "    libraries = ['openblas64_', 'openblas64_']\n",
            "    library_dirs = ['/usr/local/lib']\n",
            "    language = c\n",
            "    define_macros = [('HAVE_CBLAS', None), ('BLAS_SYMBOL_SUFFIX', '64_'), ('HAVE_BLAS_ILP64', None)]\n",
            "    runtime_library_dirs = ['/usr/local/lib']\n",
            "openblas64__lapack_info:\n",
            "    libraries = ['openblas64_', 'openblas64_']\n",
            "    library_dirs = ['/usr/local/lib']\n",
            "    language = c\n",
            "    define_macros = [('HAVE_CBLAS', None), ('BLAS_SYMBOL_SUFFIX', '64_'), ('HAVE_BLAS_ILP64', None), ('HAVE_LAPACKE', None)]\n",
            "    runtime_library_dirs = ['/usr/local/lib']\n",
            "lapack_ilp64_opt_info:\n",
            "    libraries = ['openblas64_', 'openblas64_']\n",
            "    library_dirs = ['/usr/local/lib']\n",
            "    language = c\n",
            "    define_macros = [('HAVE_CBLAS', None), ('BLAS_SYMBOL_SUFFIX', '64_'), ('HAVE_BLAS_ILP64', None), ('HAVE_LAPACKE', None)]\n",
            "    runtime_library_dirs = ['/usr/local/lib']\n",
            "Supported SIMD extensions in this NumPy install:\n",
            "    baseline = SSE,SSE2,SSE3\n",
            "    found = SSSE3,SSE41,POPCNT,SSE42,AVX,F16C,FMA3,AVX2\n",
            "    not found = AVX512F,AVX512CD,AVX512_KNL,AVX512_KNM,AVX512_SKX,AVX512_CLX,AVX512_CNL,AVX512_ICL\n",
            "None\n"
          ]
        }
      ],
      "source": [
        "print(np.__version__)\n",
        "print(np.show_config())"
      ]
    },
    {
      "cell_type": "markdown",
      "id": "37c21848",
      "metadata": {
        "id": "37c21848"
      },
      "source": [
        "#### 3. Create a null vector of size 10 (★☆☆)"
      ]
    },
    {
      "cell_type": "code",
      "execution_count": null,
      "id": "e090a462",
      "metadata": {
        "colab": {
          "base_uri": "https://localhost:8080/"
        },
        "id": "e090a462",
        "outputId": "258ad990-87a4-40c1-ab46-de5f62738e16"
      },
      "outputs": [
        {
          "output_type": "stream",
          "name": "stdout",
          "text": [
            "[0. 0. 0. 0. 0. 0. 0. 0. 0. 0.]\n"
          ]
        }
      ],
      "source": [
        "m_v = np.zeros((10,))\n",
        "print(m_v)"
      ]
    },
    {
      "cell_type": "markdown",
      "id": "7c0e6add",
      "metadata": {
        "id": "7c0e6add"
      },
      "source": [
        "#### 4. How to find the memory size of any array (★☆☆)"
      ]
    },
    {
      "cell_type": "code",
      "execution_count": null,
      "id": "8c96715d",
      "metadata": {
        "colab": {
          "base_uri": "https://localhost:8080/"
        },
        "id": "8c96715d",
        "outputId": "9e5b05e7-4295-4670-9ba5-10d7bebbeda0"
      },
      "outputs": [
        {
          "output_type": "stream",
          "name": "stdout",
          "text": [
            "Size of the array:  10\n",
            "Memory size of one array element in bytes:  8\n",
            "Memory size of numpy array in bytes: 80\n",
            "size of ndarray:  80\n"
          ]
        }
      ],
      "source": [
        "print(\"Size of the array: \",\n",
        "      m_v.size)\n",
        " \n",
        "print(\"Memory size of one array element in bytes: \",\n",
        "      m_v.itemsize)\n",
        " \n",
        "# memory size of numpy array in bytes\n",
        "print(\"Memory size of numpy array in bytes:\",\n",
        "      m_v.size * m_v.itemsize)\n",
        "\n",
        "print(\"size of ndarray: \", m_v.nbytes)"
      ]
    },
    {
      "cell_type": "markdown",
      "id": "4cf547db",
      "metadata": {
        "id": "4cf547db"
      },
      "source": [
        "#### 5. How to get the documentation of the numpy add function from the command line? (★☆☆)"
      ]
    },
    {
      "cell_type": "code",
      "execution_count": null,
      "id": "2a24a1e9",
      "metadata": {
        "colab": {
          "base_uri": "https://localhost:8080/"
        },
        "id": "2a24a1e9",
        "outputId": "0c44beb5-d149-4301-f036-d86c002a7e9a"
      },
      "outputs": [
        {
          "output_type": "stream",
          "name": "stdout",
          "text": [
            "Help on ufunc:\n",
            "\n",
            "add = <ufunc 'add'>\n",
            "    add(x1, x2, /, out=None, *, where=True, casting='same_kind', order='K', dtype=None, subok=True[, signature, extobj])\n",
            "    \n",
            "    Add arguments element-wise.\n",
            "    \n",
            "    Parameters\n",
            "    ----------\n",
            "    x1, x2 : array_like\n",
            "        The arrays to be added.\n",
            "        If ``x1.shape != x2.shape``, they must be broadcastable to a common\n",
            "        shape (which becomes the shape of the output).\n",
            "    out : ndarray, None, or tuple of ndarray and None, optional\n",
            "        A location into which the result is stored. If provided, it must have\n",
            "        a shape that the inputs broadcast to. If not provided or None,\n",
            "        a freshly-allocated array is returned. A tuple (possible only as a\n",
            "        keyword argument) must have length equal to the number of outputs.\n",
            "    where : array_like, optional\n",
            "        This condition is broadcast over the input. At locations where the\n",
            "        condition is True, the `out` array will be set to the ufunc result.\n",
            "        Elsewhere, the `out` array will retain its original value.\n",
            "        Note that if an uninitialized `out` array is created via the default\n",
            "        ``out=None``, locations within it where the condition is False will\n",
            "        remain uninitialized.\n",
            "    **kwargs\n",
            "        For other keyword-only arguments, see the\n",
            "        :ref:`ufunc docs <ufuncs.kwargs>`.\n",
            "    \n",
            "    Returns\n",
            "    -------\n",
            "    add : ndarray or scalar\n",
            "        The sum of `x1` and `x2`, element-wise.\n",
            "        This is a scalar if both `x1` and `x2` are scalars.\n",
            "    \n",
            "    Notes\n",
            "    -----\n",
            "    Equivalent to `x1` + `x2` in terms of array broadcasting.\n",
            "    \n",
            "    Examples\n",
            "    --------\n",
            "    >>> np.add(1.0, 4.0)\n",
            "    5.0\n",
            "    >>> x1 = np.arange(9.0).reshape((3, 3))\n",
            "    >>> x2 = np.arange(3.0)\n",
            "    >>> np.add(x1, x2)\n",
            "    array([[  0.,   2.,   4.],\n",
            "           [  3.,   5.,   7.],\n",
            "           [  6.,   8.,  10.]])\n",
            "    \n",
            "    The ``+`` operator can be used as a shorthand for ``np.add`` on ndarrays.\n",
            "    \n",
            "    >>> x1 = np.arange(9.0).reshape((3, 3))\n",
            "    >>> x2 = np.arange(3.0)\n",
            "    >>> x1 + x2\n",
            "    array([[ 0.,  2.,  4.],\n",
            "           [ 3.,  5.,  7.],\n",
            "           [ 6.,  8., 10.]])\n",
            "\n"
          ]
        }
      ],
      "source": [
        "help(np.add)"
      ]
    },
    {
      "cell_type": "markdown",
      "id": "bf6679c3",
      "metadata": {
        "id": "bf6679c3"
      },
      "source": [
        "#### 6. Create a null vector of size 10 but the fifth value which is 1 (★☆☆)"
      ]
    },
    {
      "cell_type": "code",
      "execution_count": null,
      "id": "f4cd59b6",
      "metadata": {
        "colab": {
          "base_uri": "https://localhost:8080/"
        },
        "id": "f4cd59b6",
        "outputId": "6b7ca3ee-99bb-4269-9104-de5c51fc2d90"
      },
      "outputs": [
        {
          "output_type": "stream",
          "name": "stdout",
          "text": [
            "[0. 0. 0. 0. 1. 0. 0. 0. 0. 0.]\n"
          ]
        }
      ],
      "source": [
        "m_vect = np.zeros((10,))\n",
        "m_vect[4] = 1\n",
        "print(m_vect)"
      ]
    },
    {
      "cell_type": "markdown",
      "id": "022451fb",
      "metadata": {
        "id": "022451fb"
      },
      "source": [
        "#### 7. Create a vector with values ranging from 10 to 49 (★☆☆)"
      ]
    },
    {
      "cell_type": "code",
      "execution_count": null,
      "id": "22c2f0a8",
      "metadata": {
        "colab": {
          "base_uri": "https://localhost:8080/"
        },
        "id": "22c2f0a8",
        "outputId": "df78e336-48d0-4012-c5e5-ac3fea94cd84"
      },
      "outputs": [
        {
          "output_type": "stream",
          "name": "stdout",
          "text": [
            "[10 11 12 13 14 15 16 17 18 19 20 21 22 23 24 25 26 27 28 29 30 31 32 33\n",
            " 34 35 36 37 38 39 40 41 42 43 44 45 46 47 48 49]\n"
          ]
        }
      ],
      "source": [
        "vec = np.arange(10, 50)\n",
        "print(vec)"
      ]
    },
    {
      "cell_type": "markdown",
      "id": "aca8f6ee",
      "metadata": {
        "id": "aca8f6ee"
      },
      "source": [
        "#### 8. Reverse a vector (first element becomes last) (★☆☆)"
      ]
    },
    {
      "cell_type": "code",
      "execution_count": null,
      "id": "15f37616",
      "metadata": {
        "colab": {
          "base_uri": "https://localhost:8080/"
        },
        "id": "15f37616",
        "outputId": "33f09ac9-646e-4e12-cfa0-4348947d63ae"
      },
      "outputs": [
        {
          "output_type": "stream",
          "name": "stdout",
          "text": [
            "[49 48 47 46 45 44 43 42 41 40 39 38 37 36 35 34 33 32 31 30 29 28 27 26\n",
            " 25 24 23 22 21 20 19 18 17 16 15 14 13 12 11 10]\n"
          ]
        }
      ],
      "source": [
        "rev_vec = vec[::-1]\n",
        "print(rev_vec)"
      ]
    },
    {
      "cell_type": "markdown",
      "id": "97bfddd4",
      "metadata": {
        "id": "97bfddd4"
      },
      "source": [
        "#### 9. Create a 3x3 matrix with values ranging from 0 to 8 (★☆☆)"
      ]
    },
    {
      "cell_type": "code",
      "execution_count": null,
      "id": "8b93d83c",
      "metadata": {
        "colab": {
          "base_uri": "https://localhost:8080/"
        },
        "id": "8b93d83c",
        "outputId": "6a4232eb-c259-4897-d0f9-9be2ec0b03cb"
      },
      "outputs": [
        {
          "output_type": "stream",
          "name": "stdout",
          "text": [
            "[[0 1 2]\n",
            " [3 4 5]\n",
            " [6 7 8]]\n"
          ]
        }
      ],
      "source": [
        "v = np.arange(0, 9)\n",
        "v.shape = (3, 3)\n",
        "print(v)"
      ]
    },
    {
      "cell_type": "markdown",
      "id": "a073dad0",
      "metadata": {
        "id": "a073dad0"
      },
      "source": [
        "#### 10. Find indices of non-zero elements from [1,2,0,0,4,0] (★☆☆)"
      ]
    },
    {
      "cell_type": "code",
      "execution_count": null,
      "id": "c21fb91c",
      "metadata": {
        "id": "c21fb91c",
        "colab": {
          "base_uri": "https://localhost:8080/"
        },
        "outputId": "71d5fa40-f058-4e60-8783-7bdcc23ffe48"
      },
      "outputs": [
        {
          "output_type": "execute_result",
          "data": {
            "text/plain": [
              "(array([0, 1, 4]),)"
            ]
          },
          "metadata": {},
          "execution_count": 12
        }
      ],
      "source": [
        "arr = np.array([1,2,0,0,4,0])\n",
        "np.nonzero(arr)"
      ]
    },
    {
      "cell_type": "markdown",
      "id": "82b9a7a0",
      "metadata": {
        "id": "82b9a7a0"
      },
      "source": [
        "#### 11. Create a 3x3 identity matrix (★☆☆)"
      ]
    },
    {
      "cell_type": "code",
      "execution_count": null,
      "id": "7ce1325a",
      "metadata": {
        "id": "7ce1325a",
        "colab": {
          "base_uri": "https://localhost:8080/"
        },
        "outputId": "a3c1a86a-e2fc-4492-c56f-021206fabaa6"
      },
      "outputs": [
        {
          "output_type": "stream",
          "name": "stdout",
          "text": [
            "[[1. 0. 0.]\n",
            " [0. 1. 0.]\n",
            " [0. 0. 1.]]\n"
          ]
        }
      ],
      "source": [
        "ind_m = np.eye(3)\n",
        "print(ind_m)"
      ]
    },
    {
      "cell_type": "markdown",
      "id": "0e6364d3",
      "metadata": {
        "id": "0e6364d3"
      },
      "source": [
        "#### 12. Create a 3x3x3 array with random values (★☆☆)"
      ]
    },
    {
      "cell_type": "code",
      "execution_count": null,
      "id": "8139c1c8",
      "metadata": {
        "id": "8139c1c8",
        "colab": {
          "base_uri": "https://localhost:8080/"
        },
        "outputId": "ebd78248-b54a-46bd-8298-c286e09e6e2b"
      },
      "outputs": [
        {
          "output_type": "stream",
          "name": "stdout",
          "text": [
            "[[[0.33382233 0.08928137 0.87837991]\n",
            "  [0.63119549 0.76942067 0.57641275]\n",
            "  [0.46315891 0.81152799 0.40526245]]\n",
            "\n",
            " [[0.84708648 0.41109269 0.38580693]\n",
            "  [0.88273133 0.10228155 0.5072302 ]\n",
            "  [0.1409359  0.95187206 0.98837337]]\n",
            "\n",
            " [[0.97960011 0.05552296 0.86964643]\n",
            "  [0.76466561 0.2561879  0.21639112]\n",
            "  [0.4013971  0.02802138 0.48839621]]]\n"
          ]
        }
      ],
      "source": [
        "rand_m = np.random.random((3,3,3))\n",
        "print(rand_m)"
      ]
    },
    {
      "cell_type": "markdown",
      "id": "49ef36a6",
      "metadata": {
        "id": "49ef36a6"
      },
      "source": [
        "#### 13. Create a 10x10 array with random values and find the minimum and maximum values (★☆☆)"
      ]
    },
    {
      "cell_type": "code",
      "execution_count": null,
      "id": "5b4c73c7",
      "metadata": {
        "id": "5b4c73c7",
        "colab": {
          "base_uri": "https://localhost:8080/"
        },
        "outputId": "05b2c549-1901-493b-e6f5-abfb4a4810ee"
      },
      "outputs": [
        {
          "output_type": "stream",
          "name": "stdout",
          "text": [
            "array:  [[0.74500521 0.38197274 0.73625157 0.0512886  0.47744094 0.19125062\n",
            "  0.26785512 0.15375423 0.35710079 0.29073009]\n",
            " [0.64464563 0.26826479 0.45621534 0.16600937 0.9550396  0.6056652\n",
            "  0.20483512 0.60438778 0.68517425 0.51243049]\n",
            " [0.05288828 0.98250433 0.65462484 0.07897575 0.46818069 0.20702686\n",
            "  0.30073348 0.04645556 0.14992114 0.60226347]\n",
            " [0.09229229 0.05311925 0.45396989 0.64184825 0.88196285 0.56730321\n",
            "  0.09203592 0.20741497 0.88137303 0.68209021]\n",
            " [0.26206817 0.21661969 0.75598829 0.44761955 0.84355019 0.2956444\n",
            "  0.79434019 0.65293469 0.58937459 0.16732311]\n",
            " [0.62247859 0.12886088 0.89799702 0.11445225 0.85295737 0.48457986\n",
            "  0.94439781 0.07897513 0.29620445 0.70898909]\n",
            " [0.16303736 0.88162941 0.73018271 0.88538224 0.37700821 0.5903828\n",
            "  0.74932958 0.88546469 0.88701998 0.03907975]\n",
            " [0.39829365 0.01216566 0.84560878 0.22457464 0.53579235 0.70141197\n",
            "  0.31787622 0.03864487 0.93831052 0.52284057]\n",
            " [0.03346877 0.29094741 0.55359752 0.28771755 0.45378425 0.99303163\n",
            "  0.55691486 0.22547964 0.24627136 0.75401961]\n",
            " [0.24731797 0.60713722 0.14743008 0.7321224  0.8181769  0.81255876\n",
            "  0.69088097 0.60503481 0.54098623 0.31720649]]\n",
            "min = 0.012165661886975765, max = 0.9930316348529409\n"
          ]
        }
      ],
      "source": [
        "rand_arr = np.random.random((10,10))\n",
        "min_r, max_r = rand_arr.min(), rand_arr.max()\n",
        "print(\"array: \", rand_arr)\n",
        "print(f\"min = {min_r}, max = {max_r}\")"
      ]
    },
    {
      "cell_type": "markdown",
      "id": "625eb243",
      "metadata": {
        "id": "625eb243"
      },
      "source": [
        "#### 14. Create a random vector of size 30 and find the mean value (★☆☆)"
      ]
    },
    {
      "cell_type": "code",
      "execution_count": null,
      "id": "ba7b8300",
      "metadata": {
        "id": "ba7b8300",
        "colab": {
          "base_uri": "https://localhost:8080/"
        },
        "outputId": "c2405365-990a-40cc-8d70-848babf792ee"
      },
      "outputs": [
        {
          "output_type": "stream",
          "name": "stdout",
          "text": [
            "vector:  [0.74158959 0.20054938 0.81145952 0.32141826 0.99555197 0.82288129\n",
            " 0.12982924 0.36212537 0.27884351 0.38880443 0.70358509 0.85092658\n",
            " 0.99879369 0.34129197 0.12810738 0.5932347  0.86677306 0.78764825\n",
            " 0.63016676 0.66986523 0.87365242 0.78604045 0.90837999 0.85730391\n",
            " 0.12319769 0.89567984 0.86860224 0.20022304 0.02921782 0.29585138]\n",
            "average element: 0.5820531343907686\n"
          ]
        }
      ],
      "source": [
        "rand_v = np.random.random(30)\n",
        "avg = rand_v.mean()\n",
        "print(\"vector: \", rand_v)\n",
        "print(\"average element:\", avg)"
      ]
    },
    {
      "cell_type": "markdown",
      "id": "19540b2f",
      "metadata": {
        "id": "19540b2f"
      },
      "source": [
        "#### 15. Create a 2d array with 1 on the border and 0 inside (★☆☆)"
      ]
    },
    {
      "cell_type": "code",
      "execution_count": null,
      "id": "19e78d2c",
      "metadata": {
        "id": "19e78d2c",
        "colab": {
          "base_uri": "https://localhost:8080/"
        },
        "outputId": "682894c4-1f2c-424d-f5dd-8061a4c18269"
      },
      "outputs": [
        {
          "output_type": "stream",
          "name": "stdout",
          "text": [
            "[[1. 1. 1. 1. 1. 1. 1. 1. 1. 1.]\n",
            " [1. 0. 0. 0. 0. 0. 0. 0. 0. 1.]\n",
            " [1. 0. 0. 0. 0. 0. 0. 0. 0. 1.]\n",
            " [1. 0. 0. 0. 0. 0. 0. 0. 0. 1.]\n",
            " [1. 0. 0. 0. 0. 0. 0. 0. 0. 1.]\n",
            " [1. 0. 0. 0. 0. 0. 0. 0. 0. 1.]\n",
            " [1. 0. 0. 0. 0. 0. 0. 0. 0. 1.]\n",
            " [1. 0. 0. 0. 0. 0. 0. 0. 0. 1.]\n",
            " [1. 0. 0. 0. 0. 0. 0. 0. 0. 1.]\n",
            " [1. 1. 1. 1. 1. 1. 1. 1. 1. 1.]]\n"
          ]
        }
      ],
      "source": [
        "arr_2 = np.ones((10,10))\n",
        "arr_2[1:-1,1:-1] = 0\n",
        "print(arr_2)"
      ]
    },
    {
      "cell_type": "markdown",
      "id": "3f0fe171",
      "metadata": {
        "id": "3f0fe171"
      },
      "source": [
        "#### 16. How to add a border (filled with 0's) around an existing array? (★☆☆)"
      ]
    },
    {
      "cell_type": "code",
      "execution_count": null,
      "id": "662a99b4",
      "metadata": {
        "id": "662a99b4",
        "colab": {
          "base_uri": "https://localhost:8080/"
        },
        "outputId": "aee84989-9656-45bd-e42d-226a4e63605a"
      },
      "outputs": [
        {
          "output_type": "stream",
          "name": "stdout",
          "text": [
            "[[0. 0. 0. 0. 0. 0. 0. 0. 0. 0. 0. 0.]\n",
            " [0. 1. 1. 1. 1. 1. 1. 1. 1. 1. 1. 0.]\n",
            " [0. 1. 1. 1. 1. 1. 1. 1. 1. 1. 1. 0.]\n",
            " [0. 1. 1. 1. 1. 1. 1. 1. 1. 1. 1. 0.]\n",
            " [0. 1. 1. 1. 1. 1. 1. 1. 1. 1. 1. 0.]\n",
            " [0. 1. 1. 1. 1. 1. 1. 1. 1. 1. 1. 0.]\n",
            " [0. 1. 1. 1. 1. 1. 1. 1. 1. 1. 1. 0.]\n",
            " [0. 1. 1. 1. 1. 1. 1. 1. 1. 1. 1. 0.]\n",
            " [0. 1. 1. 1. 1. 1. 1. 1. 1. 1. 1. 0.]\n",
            " [0. 1. 1. 1. 1. 1. 1. 1. 1. 1. 1. 0.]\n",
            " [0. 1. 1. 1. 1. 1. 1. 1. 1. 1. 1. 0.]\n",
            " [0. 0. 0. 0. 0. 0. 0. 0. 0. 0. 0. 0.]]\n"
          ]
        }
      ],
      "source": [
        "arr = np.ones((10,10))\n",
        "arr = np.pad(arr, pad_width=1, mode='constant', constant_values=0)\n",
        "print(arr)"
      ]
    },
    {
      "cell_type": "markdown",
      "id": "0464c4af",
      "metadata": {
        "id": "0464c4af"
      },
      "source": [
        "#### 17. What is the result of the following expression? (★☆☆)\n",
        "```python\n",
        "0 * np.nan\n",
        "np.nan == np.nan\n",
        "np.inf > np.nan\n",
        "np.nan - np.nan\n",
        "np.nan in set([np.nan])\n",
        "0.3 == 3 * 0.1\n",
        "```"
      ]
    },
    {
      "cell_type": "code",
      "execution_count": null,
      "id": "18926a29",
      "metadata": {
        "id": "18926a29",
        "colab": {
          "base_uri": "https://localhost:8080/"
        },
        "outputId": "f3f2428e-de1b-41ea-fabc-f1bdd9c19929"
      },
      "outputs": [
        {
          "output_type": "stream",
          "name": "stdout",
          "text": [
            "nan\n",
            "False\n",
            "False\n",
            "nan\n",
            "True\n",
            "False\n"
          ]
        }
      ],
      "source": [
        "print(0 * np.nan)\n",
        "print(np.nan == np.nan)\n",
        "print(np.inf > np.nan)\n",
        "print(np.nan - np.nan)\n",
        "print(np.nan in set([np.nan]))\n",
        "print(0.3 == 3 * 0.1)"
      ]
    },
    {
      "cell_type": "markdown",
      "id": "afb90e8b",
      "metadata": {
        "id": "afb90e8b"
      },
      "source": [
        "#### 18. Create a 5x5 matrix with values 1,2,3,4 just below the diagonal (★☆☆)"
      ]
    },
    {
      "cell_type": "code",
      "execution_count": null,
      "id": "8a988102",
      "metadata": {
        "id": "8a988102",
        "colab": {
          "base_uri": "https://localhost:8080/"
        },
        "outputId": "84328ad0-799e-42c5-d052-ee9f432d132e"
      },
      "outputs": [
        {
          "output_type": "stream",
          "name": "stdout",
          "text": [
            "[[0 0 0 0 0]\n",
            " [1 0 0 0 0]\n",
            " [0 2 0 0 0]\n",
            " [0 0 3 0 0]\n",
            " [0 0 0 4 0]]\n"
          ]
        }
      ],
      "source": [
        "diag_m = np.diag(1+np.arange(4),k=-1)\n",
        "print(diag_m)"
      ]
    },
    {
      "cell_type": "markdown",
      "id": "ca611f9e",
      "metadata": {
        "id": "ca611f9e"
      },
      "source": [
        "#### 19. Create a 8x8 matrix and fill it with a checkerboard pattern (★☆☆)"
      ]
    },
    {
      "cell_type": "code",
      "execution_count": null,
      "id": "24049fc7",
      "metadata": {
        "id": "24049fc7",
        "colab": {
          "base_uri": "https://localhost:8080/"
        },
        "outputId": "649f21d2-b5c6-4fb1-9dba-3c4e9d7c63bf"
      },
      "outputs": [
        {
          "output_type": "stream",
          "name": "stdout",
          "text": [
            "[[1 0 1 0 1 0 1 0 1 0]\n",
            " [0 1 0 1 0 1 0 1 0 1]\n",
            " [1 0 1 0 1 0 1 0 1 0]\n",
            " [0 1 0 1 0 1 0 1 0 1]\n",
            " [1 0 1 0 1 0 1 0 1 0]\n",
            " [0 1 0 1 0 1 0 1 0 1]\n",
            " [1 0 1 0 1 0 1 0 1 0]\n",
            " [0 1 0 1 0 1 0 1 0 1]\n",
            " [1 0 1 0 1 0 1 0 1 0]\n",
            " [0 1 0 1 0 1 0 1 0 1]]\n"
          ]
        }
      ],
      "source": [
        "mart = np.ones((10,10), dtype=int)\n",
        "mart[1::2,::2] = 0\n",
        "mart[::2,1::2] = 0\n",
        "print(mart)"
      ]
    },
    {
      "cell_type": "markdown",
      "id": "9b77f7af",
      "metadata": {
        "id": "9b77f7af"
      },
      "source": [
        "#### 20. Consider a (6,7,8) shape array, what is the index (x,y,z) of the 100th element? (★☆☆)"
      ]
    },
    {
      "cell_type": "code",
      "execution_count": null,
      "id": "402efd68",
      "metadata": {
        "id": "402efd68",
        "colab": {
          "base_uri": "https://localhost:8080/"
        },
        "outputId": "87f1fbe4-9e32-414f-f883-b3a473e53974"
      },
      "outputs": [
        {
          "output_type": "stream",
          "name": "stdout",
          "text": [
            "(1, 5, 3)\n"
          ]
        }
      ],
      "source": [
        "print(np.unravel_index(99,(6,7,8)))"
      ]
    },
    {
      "cell_type": "markdown",
      "id": "07e399b8",
      "metadata": {
        "id": "07e399b8"
      },
      "source": [
        "#### 21. Create a checkerboard 8x8 matrix using the tile function (★☆☆)"
      ]
    },
    {
      "cell_type": "code",
      "execution_count": null,
      "id": "867964a9",
      "metadata": {
        "id": "867964a9",
        "colab": {
          "base_uri": "https://localhost:8080/"
        },
        "outputId": "923e9312-46c3-4e6f-aa56-d368fa4016ae"
      },
      "outputs": [
        {
          "output_type": "stream",
          "name": "stdout",
          "text": [
            "[[0 1 0 1 0 1 0 1]\n",
            " [1 0 1 0 1 0 1 0]\n",
            " [0 1 0 1 0 1 0 1]\n",
            " [1 0 1 0 1 0 1 0]\n",
            " [0 1 0 1 0 1 0 1]\n",
            " [1 0 1 0 1 0 1 0]\n",
            " [0 1 0 1 0 1 0 1]\n",
            " [1 0 1 0 1 0 1 0]]\n"
          ]
        }
      ],
      "source": [
        "checkerboard = np.tile( np.array([[0,1],[1,0]]), (4,4))\n",
        "print(checkerboard)"
      ]
    },
    {
      "cell_type": "markdown",
      "id": "bc92d88a",
      "metadata": {
        "id": "bc92d88a"
      },
      "source": [
        "#### 22. Normalize a 5x5 random matrix (★☆☆)"
      ]
    },
    {
      "cell_type": "code",
      "execution_count": null,
      "id": "a3709496",
      "metadata": {
        "id": "a3709496",
        "colab": {
          "base_uri": "https://localhost:8080/"
        },
        "outputId": "11961e49-9c83-4f80-f4a8-edaf3eba16cf"
      },
      "outputs": [
        {
          "output_type": "stream",
          "name": "stdout",
          "text": [
            "matrix:  [[0.72974118 0.44654981 0.82785503 0.1726394  0.55158858]\n",
            " [0.88985106 0.69462759 0.88798379 0.72750262 0.28535835]\n",
            " [0.10309177 0.68475807 0.36020864 0.39062463 0.49712533]\n",
            " [0.89146318 0.04433117 0.16778599 0.96766577 0.06762187]\n",
            " [0.412473   0.53707196 0.29383726 0.12626391 0.84069572]]\n",
            "normalize matrix:  [[ 0.77571005 -0.19719357  1.11278005 -1.13821247  0.16366701]\n",
            " [ 1.32576735  0.65507734  1.31935234  0.76801949 -0.75096664]\n",
            " [-1.37714326  0.62117065 -0.49381857 -0.38932446 -0.02344142]\n",
            " [ 1.33130579 -1.57901523 -1.15488634  1.59309971 -1.49900005]\n",
            " [-0.31426441  0.11379517 -0.72183737 -1.29753538  1.15689423]]\n"
          ]
        }
      ],
      "source": [
        "matrix = np.random.random((5,5))\n",
        "print(\"matrix: \", matrix)\n",
        "n_matr = (matrix - np.mean (matrix)) / (np.std (matrix))\n",
        "print(\"normalize matrix: \", n_matr)"
      ]
    },
    {
      "cell_type": "markdown",
      "id": "9e2fd8ce",
      "metadata": {
        "id": "9e2fd8ce"
      },
      "source": [
        "#### 23. Create a custom dtype that describes a color as four unsigned bytes (RGBA) (★☆☆)"
      ]
    },
    {
      "cell_type": "code",
      "execution_count": null,
      "id": "5881b2b5",
      "metadata": {
        "id": "5881b2b5",
        "colab": {
          "base_uri": "https://localhost:8080/"
        },
        "outputId": "bdb37039-8e32-4c0a-f3da-4ed348ace2fc"
      },
      "outputs": [
        {
          "output_type": "stream",
          "name": "stderr",
          "text": [
            "<ipython-input-29-b9f1a6f5df9c>:1: FutureWarning: Passing (type, 1) or '1type' as a synonym of type is deprecated; in a future version of numpy, it will be understood as (type, (1,)) / '(1,)type'.\n",
            "  color = np.dtype([(\"r\", np.ubyte, 1),\n"
          ]
        }
      ],
      "source": [
        "color = np.dtype([(\"r\", np.ubyte, 1),\n",
        "                  (\"g\", np.ubyte, 1),\n",
        "                  (\"b\", np.ubyte, 1),\n",
        "                  (\"a\", np.ubyte, 1)])"
      ]
    },
    {
      "cell_type": "markdown",
      "id": "d6904ab9",
      "metadata": {
        "id": "d6904ab9"
      },
      "source": [
        "#### 24. Multiply a 5x3 matrix by a 3x2 matrix (real matrix product) (★☆☆)"
      ]
    },
    {
      "cell_type": "code",
      "execution_count": null,
      "id": "cb3b6528",
      "metadata": {
        "id": "cb3b6528",
        "colab": {
          "base_uri": "https://localhost:8080/"
        },
        "outputId": "613c5213-76cc-4d6c-bb7a-d86c4591d557"
      },
      "outputs": [
        {
          "output_type": "stream",
          "name": "stdout",
          "text": [
            "matrix 1:\n",
            " [[ 1  2  3]\n",
            " [ 4  5  6]\n",
            " [ 7  8  9]\n",
            " [10 11 12]\n",
            " [13 14 15]]\n",
            "matrix 2:\n",
            " [[1 2]\n",
            " [3 4]\n",
            " [5 6]]\n",
            "multiply matrix:\n",
            " [[ 22  28]\n",
            " [ 49  64]\n",
            " [ 76 100]\n",
            " [103 136]\n",
            " [130 172]]\n"
          ]
        }
      ],
      "source": [
        "matr1 = np.arange(1,16)\n",
        "matr1.shape = (5, 3)\n",
        "print(\"matrix 1:\\n\", matr1)\n",
        "\n",
        "matr2 = np.arange(1,7)\n",
        "matr2.shape = (3, 2)\n",
        "print(\"matrix 2:\\n\",matr2)\n",
        "\n",
        "mul_matr = np.dot(matr1, matr2)\n",
        "print(\"multiply matrix:\\n\", mul_matr)\n"
      ]
    },
    {
      "cell_type": "markdown",
      "id": "c57116dd",
      "metadata": {
        "id": "c57116dd"
      },
      "source": [
        "#### 25. Given a 1D array, negate all elements which are between 3 and 8, in place. (★☆☆)"
      ]
    },
    {
      "cell_type": "code",
      "execution_count": null,
      "id": "4fbf1b1e",
      "metadata": {
        "id": "4fbf1b1e",
        "colab": {
          "base_uri": "https://localhost:8080/"
        },
        "outputId": "0dfa03d1-4c3e-460d-97cd-38874aa84470"
      },
      "outputs": [
        {
          "output_type": "stream",
          "name": "stdout",
          "text": [
            "[-11 -10  -9  -8  -7  -6  -5  -4  -3  -2  -1   0   1   2   3   4   5   6\n",
            "   7   8   9  10  11]\n",
            "[-11 -10  -9  -8  -7  -6  -5  -4  -3  -2  -1   0   1   2   3  -4  -5  -6\n",
            "  -7   8   9  10  11]\n"
          ]
        }
      ],
      "source": [
        "arr = np.arange(-11, 12)\n",
        "print(arr)\n",
        "\n",
        "arr[(3 < arr) & (arr < 8)] *= -1\n",
        "print(arr)"
      ]
    },
    {
      "cell_type": "markdown",
      "id": "52707d61",
      "metadata": {
        "id": "52707d61"
      },
      "source": [
        "#### 26. What is the output of the following script? (★☆☆)\n",
        "```python\n",
        "# Author: Jake VanderPlas\n",
        "\n",
        "print(sum(range(5),-1))\n",
        "from numpy import *\n",
        "print(sum(range(5),-1))\n",
        "```"
      ]
    },
    {
      "cell_type": "code",
      "execution_count": null,
      "id": "18a238e6",
      "metadata": {
        "id": "18a238e6",
        "colab": {
          "base_uri": "https://localhost:8080/"
        },
        "outputId": "a0a40abd-3c27-4457-d02f-75ff820f07ef"
      },
      "outputs": [
        {
          "output_type": "stream",
          "name": "stdout",
          "text": [
            "10\n",
            "10\n"
          ]
        }
      ],
      "source": [
        "print(sum(range(5),-1))\n",
        "from numpy import *\n",
        "print(sum(range(5),-1))"
      ]
    },
    {
      "cell_type": "markdown",
      "id": "5ab377fd",
      "metadata": {
        "id": "5ab377fd"
      },
      "source": [
        "#### 27. Consider an integer vector Z, which of these expressions are legal? (★☆☆)\n",
        "```python\n",
        "Z**Z\n",
        "2 << Z >> 2\n",
        "Z <- Z\n",
        "1j*Z\n",
        "Z/1/1\n",
        "Z<Z>Z\n",
        "```"
      ]
    },
    {
      "cell_type": "code",
      "execution_count": null,
      "id": "36cc66a9",
      "metadata": {
        "id": "36cc66a9",
        "colab": {
          "base_uri": "https://localhost:8080/"
        },
        "outputId": "6b4767db-909f-4a5a-bd9b-9039b0a0fdb9"
      },
      "outputs": [
        {
          "output_type": "stream",
          "name": "stdout",
          "text": [
            "Z:  [ 1  2  3  4  5  6  7  8  9 10]\n",
            "Z**Z: [          1           4          27         256        3125       46656\n",
            "      823543    16777216   387420489 10000000000]\n",
            "2 << Z >> 2: [  1   2   4   8  16  32  64 128 256 512]\n",
            "Z <- Z: [False False False False False False False False False False]\n",
            "1j*Z: [0. +1.j 0. +2.j 0. +3.j 0. +4.j 0. +5.j 0. +6.j 0. +7.j 0. +8.j 0. +9.j\n",
            " 0.+10.j]\n",
            "Z/1/1: [ 1.  2.  3.  4.  5.  6.  7.  8.  9. 10.]\n",
            "Z<Z>Z: # ValueError\n"
          ]
        }
      ],
      "source": [
        "Z = np.array([1,2,3,4,5,6,7,8,9,10])\n",
        "print(\"Z: \", Z)\n",
        "\n",
        "\n",
        "a = Z**Z\n",
        "print(\"Z**Z:\", a)\n",
        "\n",
        "a = 2 << Z >> 2\n",
        "print(\"2 << Z >> 2:\", a)\n",
        "\n",
        "a = Z <- Z\n",
        "print(\"Z <- Z:\", a)\n",
        "\n",
        "a = 1j*Z\n",
        "print(\"1j*Z:\", a)\n",
        "\n",
        "a = Z/1/1\n",
        "print(\"Z/1/1:\", a)\n",
        "\n",
        "#a = Z<Z>Z # ValueError\n",
        "print(\"Z<Z>Z: # ValueError\")\n"
      ]
    },
    {
      "cell_type": "markdown",
      "id": "654f223f",
      "metadata": {
        "id": "654f223f"
      },
      "source": [
        "#### 28. What are the result of the following expressions? (★☆☆)\n",
        "```python\n",
        "np.array(0) / np.array(0)\n",
        "np.array(0) // np.array(0)\n",
        "np.array([np.nan]).astype(int).astype(float)\n",
        "```"
      ]
    },
    {
      "cell_type": "code",
      "execution_count": null,
      "id": "6d9d3c21",
      "metadata": {
        "id": "6d9d3c21",
        "colab": {
          "base_uri": "https://localhost:8080/"
        },
        "outputId": "6151b53e-d499-4481-f004-24021bcf6e47"
      },
      "outputs": [
        {
          "output_type": "stream",
          "name": "stdout",
          "text": [
            "nan\n",
            "0\n",
            "[-9.22337204e+18]\n"
          ]
        },
        {
          "output_type": "stream",
          "name": "stderr",
          "text": [
            "<ipython-input-34-2a10de0ee61b>:1: RuntimeWarning: invalid value encountered in true_divide\n",
            "  print(np.array(0) / np.array(0))\n",
            "<ipython-input-34-2a10de0ee61b>:2: RuntimeWarning: divide by zero encountered in floor_divide\n",
            "  print(np.array(0) // np.array(0))\n"
          ]
        }
      ],
      "source": [
        "print(np.array(0) / np.array(0))\n",
        "print(np.array(0) // np.array(0))\n",
        "print(np.array([np.nan]).astype(int).astype(float))"
      ]
    },
    {
      "cell_type": "markdown",
      "id": "a7e00adf",
      "metadata": {
        "id": "a7e00adf"
      },
      "source": [
        "#### 29. How to round away from zero a float array ? (★☆☆)"
      ]
    },
    {
      "cell_type": "code",
      "execution_count": null,
      "id": "6ee5777d",
      "metadata": {
        "id": "6ee5777d",
        "colab": {
          "base_uri": "https://localhost:8080/"
        },
        "outputId": "84512ef9-fb4a-4e9d-e06f-ba6425839071"
      },
      "outputs": [
        {
          "output_type": "stream",
          "name": "stdout",
          "text": [
            "[-5.00000000e-01 -4.00000000e-01 -3.00000000e-01 -2.00000000e-01\n",
            " -1.00000000e-01 -1.11022302e-16  1.00000000e-01  2.00000000e-01\n",
            "  3.00000000e-01  4.00000000e-01]\n",
            "[-1. -1. -1. -1. -1. -1.  1.  1.  1.  1.]\n"
          ]
        }
      ],
      "source": [
        "arr = np.arange(-0.5, 0.5, 0.1)\n",
        "print(arr)\n",
        "print (np.copysign(np.ceil(np.abs(arr)), arr))"
      ]
    },
    {
      "cell_type": "markdown",
      "id": "56be1f05",
      "metadata": {
        "id": "56be1f05"
      },
      "source": [
        "#### 30. How to find common values between two arrays? (★☆☆)"
      ]
    },
    {
      "cell_type": "code",
      "execution_count": null,
      "id": "62eeedc0",
      "metadata": {
        "id": "62eeedc0",
        "colab": {
          "base_uri": "https://localhost:8080/"
        },
        "outputId": "87a3ef94-22fa-4a4e-e905-bf033daca994"
      },
      "outputs": [
        {
          "output_type": "stream",
          "name": "stdout",
          "text": [
            "[-3  0 11 14]\n"
          ]
        }
      ],
      "source": [
        "arr1 = np.array([24, 17, -3, 0, 10, 11, 15, -7, 14, 5])\n",
        "arr2 = np.array([3, 4, -3, 0, 6, 11, 33, -10, 14, 8])\n",
        "print(np.intersect1d(arr1, arr2))"
      ]
    },
    {
      "cell_type": "markdown",
      "id": "83567c5c",
      "metadata": {
        "id": "83567c5c"
      },
      "source": [
        "#### 31. How to ignore all numpy warnings (not recommended)? (★☆☆)"
      ]
    },
    {
      "cell_type": "code",
      "execution_count": null,
      "id": "fa02b423",
      "metadata": {
        "id": "fa02b423",
        "colab": {
          "base_uri": "https://localhost:8080/"
        },
        "outputId": "70cd6ebe-0487-488e-bac8-e816156f6d45"
      },
      "outputs": [
        {
          "output_type": "stream",
          "name": "stdout",
          "text": [
            "[inf]\n"
          ]
        }
      ],
      "source": [
        "defaults = np.seterr(all=\"ignore\")\n",
        "Z = np.ones(1) / 0\n",
        "print(Z)\n",
        "_ = np.seterr(**defaults)"
      ]
    },
    {
      "cell_type": "markdown",
      "id": "0a7449b6",
      "metadata": {
        "id": "0a7449b6"
      },
      "source": [
        "#### 32. Is the following expressions true? (★☆☆)\n",
        "```python\n",
        "np.sqrt(-1) == np.emath.sqrt(-1)\n",
        "```"
      ]
    },
    {
      "cell_type": "code",
      "execution_count": null,
      "id": "69eb4456",
      "metadata": {
        "id": "69eb4456",
        "colab": {
          "base_uri": "https://localhost:8080/"
        },
        "outputId": "8c48834f-9a74-4546-8576-6115e81306f3"
      },
      "outputs": [
        {
          "output_type": "stream",
          "name": "stdout",
          "text": [
            "False\n"
          ]
        },
        {
          "output_type": "stream",
          "name": "stderr",
          "text": [
            "<ipython-input-38-c6ff0ad7fd7b>:1: RuntimeWarning: invalid value encountered in sqrt\n",
            "  print(np.sqrt(-1) == np.emath.sqrt(-1))\n"
          ]
        }
      ],
      "source": [
        "print(np.sqrt(-1) == np.emath.sqrt(-1))"
      ]
    },
    {
      "cell_type": "markdown",
      "id": "9d434219",
      "metadata": {
        "id": "9d434219"
      },
      "source": [
        "#### 33. How to get the dates of yesterday, today and tomorrow? (★☆☆)"
      ]
    },
    {
      "cell_type": "code",
      "execution_count": null,
      "id": "0b192943",
      "metadata": {
        "id": "0b192943",
        "colab": {
          "base_uri": "https://localhost:8080/"
        },
        "outputId": "fa4cb577-5687-4d4f-9e5f-03ee9a827a37"
      },
      "outputs": [
        {
          "output_type": "stream",
          "name": "stdout",
          "text": [
            "2023-03-30\n",
            "2023-03-31\n",
            "2023-04-01\n"
          ]
        }
      ],
      "source": [
        "yesterday = np.datetime64('today', 'D') - np.timedelta64(1, 'D')\n",
        "today = np.datetime64('today', 'D')\n",
        "tomorrow  = np.datetime64('today', 'D') + np.timedelta64(1, 'D')\n",
        "\n",
        "print(yesterday)\n",
        "print(today)\n",
        "print(tomorrow)"
      ]
    },
    {
      "cell_type": "markdown",
      "id": "b0e44339",
      "metadata": {
        "id": "b0e44339"
      },
      "source": [
        "#### 34. How to get all the dates corresponding to the month of July 2016? (★★☆)"
      ]
    },
    {
      "cell_type": "code",
      "execution_count": null,
      "id": "8bf7daa6",
      "metadata": {
        "id": "8bf7daa6",
        "colab": {
          "base_uri": "https://localhost:8080/"
        },
        "outputId": "50b25bdc-3639-4e71-e4b2-180ada1e566d"
      },
      "outputs": [
        {
          "output_type": "stream",
          "name": "stdout",
          "text": [
            "['2016-07-01' '2016-07-02' '2016-07-03' '2016-07-04' '2016-07-05'\n",
            " '2016-07-06' '2016-07-07' '2016-07-08' '2016-07-09' '2016-07-10'\n",
            " '2016-07-11' '2016-07-12' '2016-07-13' '2016-07-14' '2016-07-15'\n",
            " '2016-07-16' '2016-07-17' '2016-07-18' '2016-07-19' '2016-07-20'\n",
            " '2016-07-21' '2016-07-22' '2016-07-23' '2016-07-24' '2016-07-25'\n",
            " '2016-07-26' '2016-07-27' '2016-07-28' '2016-07-29' '2016-07-30'\n",
            " '2016-07-31']\n"
          ]
        }
      ],
      "source": [
        "dates = np.arange('2016-07', '2016-08', dtype='datetime64[D]')\n",
        "print(dates)"
      ]
    },
    {
      "cell_type": "markdown",
      "id": "f9b3c24a",
      "metadata": {
        "id": "f9b3c24a"
      },
      "source": [
        "#### 35. How to compute ((A+B)*(-A/2)) in place (without copy)? (★★☆)"
      ]
    },
    {
      "cell_type": "code",
      "execution_count": null,
      "id": "40da18c9",
      "metadata": {
        "id": "40da18c9",
        "colab": {
          "base_uri": "https://localhost:8080/"
        },
        "outputId": "cdcf4bbc-39a9-47cf-cac1-22dc6ac461de"
      },
      "outputs": [
        {
          "output_type": "execute_result",
          "data": {
            "text/plain": [
              "array([-1.5, -1.5, -1.5])"
            ]
          },
          "metadata": {},
          "execution_count": 41
        }
      ],
      "source": [
        "A = np.ones(3)*1\n",
        "B = np.ones(3)*2\n",
        "C = np.ones(3)*3\n",
        "np.add(A,B,out=B)\n",
        "np.divide(A,2,out=A)\n",
        "np.negative(A,out=A)\n",
        "np.multiply(A,B,out=A)"
      ]
    },
    {
      "cell_type": "markdown",
      "id": "cbb64ee9",
      "metadata": {
        "id": "cbb64ee9"
      },
      "source": [
        "#### 36. Extract the integer part of a random array of positive numbers using 4 different methods (★★☆)"
      ]
    },
    {
      "cell_type": "code",
      "execution_count": null,
      "id": "f83748bd",
      "metadata": {
        "id": "f83748bd",
        "colab": {
          "base_uri": "https://localhost:8080/"
        },
        "outputId": "b7b97a75-1691-4a1a-8e24-94e406de567e"
      },
      "outputs": [
        {
          "output_type": "stream",
          "name": "stdout",
          "text": [
            "[1. 6. 0. 2. 7. 4. 7. 6. 9. 9.]\n",
            "[1. 6. 0. 2. 7. 4. 7. 6. 9. 9.]\n",
            "[1. 6. 0. 2. 7. 4. 7. 6. 9. 9.]\n",
            "[1 6 0 2 7 4 7 6 9 9]\n",
            "[1. 6. 0. 2. 7. 4. 7. 6. 9. 9.]\n"
          ]
        }
      ],
      "source": [
        "arr = np.random.uniform(0,10,10)\n",
        "print (arr - arr%1)\n",
        "print (np.floor(arr))\n",
        "print (np.ceil(arr)-1)\n",
        "print (arr.astype(int))\n",
        "print (np.trunc(arr))"
      ]
    },
    {
      "cell_type": "markdown",
      "id": "8418e1e4",
      "metadata": {
        "id": "8418e1e4"
      },
      "source": [
        "#### 37. Create a 5x5 matrix with row values ranging from 0 to 4 (★★☆)"
      ]
    },
    {
      "cell_type": "code",
      "execution_count": null,
      "id": "08e726e4",
      "metadata": {
        "id": "08e726e4",
        "colab": {
          "base_uri": "https://localhost:8080/"
        },
        "outputId": "b99119e3-1024-46a2-b773-878f133e08e7"
      },
      "outputs": [
        {
          "output_type": "stream",
          "name": "stdout",
          "text": [
            "[[0. 1. 2. 3. 4.]\n",
            " [0. 1. 2. 3. 4.]\n",
            " [0. 1. 2. 3. 4.]\n",
            " [0. 1. 2. 3. 4.]\n",
            " [0. 1. 2. 3. 4.]]\n"
          ]
        }
      ],
      "source": [
        "m = np.zeros((5,5))\n",
        "m += np.arange(5)\n",
        "print(m)"
      ]
    },
    {
      "cell_type": "markdown",
      "id": "a8420e2c",
      "metadata": {
        "id": "a8420e2c"
      },
      "source": [
        "#### 38. Consider a generator function that generates 10 integers and use it to build an array (★☆☆)"
      ]
    },
    {
      "cell_type": "code",
      "execution_count": null,
      "id": "c58e77ad",
      "metadata": {
        "id": "c58e77ad",
        "colab": {
          "base_uri": "https://localhost:8080/"
        },
        "outputId": "464852e6-b938-4297-efaa-c5cd494ebec1"
      },
      "outputs": [
        {
          "output_type": "stream",
          "name": "stdout",
          "text": [
            "[0 1 2 3 4 5 6 7 8 9]\n"
          ]
        }
      ],
      "source": [
        "def generate():\n",
        "    for x in range(10):\n",
        "        yield x\n",
        "Z = np.fromiter(generate(),dtype=int,count=-1)\n",
        "print(Z)"
      ]
    },
    {
      "cell_type": "markdown",
      "id": "deab3e77",
      "metadata": {
        "id": "deab3e77"
      },
      "source": [
        "#### 39. Create a vector of size 10 with values ranging from 0 to 1, both excluded (★★☆)"
      ]
    },
    {
      "cell_type": "code",
      "execution_count": null,
      "id": "2c5fafc8",
      "metadata": {
        "id": "2c5fafc8",
        "colab": {
          "base_uri": "https://localhost:8080/"
        },
        "outputId": "8d660e62-9fb2-42db-fc32-7fd9a654964a"
      },
      "outputs": [
        {
          "output_type": "stream",
          "name": "stdout",
          "text": [
            "[0.09090909 0.18181818 0.27272727 0.36363636 0.45454545 0.54545455\n",
            " 0.63636364 0.72727273 0.81818182 0.90909091]\n"
          ]
        }
      ],
      "source": [
        "arr_1 = np.linspace(0,1,11,endpoint=False)[1:]\n",
        "print(arr_1)"
      ]
    },
    {
      "cell_type": "markdown",
      "id": "5bb5de9c",
      "metadata": {
        "id": "5bb5de9c"
      },
      "source": [
        "#### 40. Create a random vector of size 10 and sort it (★★☆)"
      ]
    },
    {
      "cell_type": "code",
      "execution_count": null,
      "id": "b9916965",
      "metadata": {
        "id": "b9916965",
        "colab": {
          "base_uri": "https://localhost:8080/"
        },
        "outputId": "7b4df10a-7b55-4019-bdd5-863536811039"
      },
      "outputs": [
        {
          "output_type": "stream",
          "name": "stdout",
          "text": [
            "[0.73159621 0.61785047 0.54576023 0.9559755  0.57547871 0.99266043\n",
            " 0.79968132 0.6116523  0.86822911 0.81837037]\n",
            "[0.54576023 0.57547871 0.6116523  0.61785047 0.73159621 0.79968132\n",
            " 0.81837037 0.86822911 0.9559755  0.99266043]\n"
          ]
        }
      ],
      "source": [
        "arr = np.random.random(10)\n",
        "print(arr)\n",
        "arr.sort()\n",
        "print(arr)"
      ]
    },
    {
      "cell_type": "markdown",
      "id": "ebc8ad64",
      "metadata": {
        "id": "ebc8ad64"
      },
      "source": [
        "#### 41. How to sum a small array faster than np.sum? (★★☆)"
      ]
    },
    {
      "cell_type": "code",
      "execution_count": null,
      "id": "e7ac9923",
      "metadata": {
        "id": "e7ac9923",
        "colab": {
          "base_uri": "https://localhost:8080/"
        },
        "outputId": "bd99ec61-00df-42a7-beae-4498ccfaae1e"
      },
      "outputs": [
        {
          "output_type": "execute_result",
          "data": {
            "text/plain": [
              "45"
            ]
          },
          "metadata": {},
          "execution_count": 48
        }
      ],
      "source": [
        "arr = np.arange(10)\n",
        "np.add.reduce(arr)"
      ]
    },
    {
      "cell_type": "markdown",
      "id": "4abfb753",
      "metadata": {
        "id": "4abfb753"
      },
      "source": [
        "#### 42. Consider two random array A and B, check if they are equal (★★☆)"
      ]
    },
    {
      "cell_type": "code",
      "execution_count": null,
      "id": "d265b5f6",
      "metadata": {
        "id": "d265b5f6",
        "colab": {
          "base_uri": "https://localhost:8080/"
        },
        "outputId": "05e00593-1245-4d78-e9b9-86cf63978f89"
      },
      "outputs": [
        {
          "output_type": "stream",
          "name": "stdout",
          "text": [
            "False\n",
            "False\n"
          ]
        }
      ],
      "source": [
        "A = np.random.randint(0,2,5)\n",
        "B = np.random.randint(0,2,5)\n",
        "\n",
        "equal = np.allclose(A,B)\n",
        "print(equal)\n",
        "\n",
        "equal = np.array_equal(A,B)\n",
        "print(equal)"
      ]
    },
    {
      "cell_type": "markdown",
      "id": "c8fad2be",
      "metadata": {
        "id": "c8fad2be"
      },
      "source": [
        "#### 43. Make an array immutable (read-only) (★★☆)"
      ]
    },
    {
      "cell_type": "code",
      "execution_count": null,
      "id": "cadce095",
      "metadata": {
        "id": "cadce095",
        "colab": {
          "base_uri": "https://localhost:8080/",
          "height": 200
        },
        "outputId": "11d912ea-d8ac-447f-c04d-0bdc226c4af7"
      },
      "outputs": [
        {
          "output_type": "error",
          "ename": "ValueError",
          "evalue": "ignored",
          "traceback": [
            "\u001b[0;31m---------------------------------------------------------------------------\u001b[0m",
            "\u001b[0;31mValueError\u001b[0m                                Traceback (most recent call last)",
            "\u001b[0;32m<ipython-input-51-7cd3a230ca1a>\u001b[0m in \u001b[0;36m<cell line: 3>\u001b[0;34m()\u001b[0m\n\u001b[1;32m      1\u001b[0m \u001b[0marr\u001b[0m \u001b[0;34m=\u001b[0m \u001b[0mnp\u001b[0m\u001b[0;34m.\u001b[0m\u001b[0mzeros\u001b[0m\u001b[0;34m(\u001b[0m\u001b[0;36m10\u001b[0m\u001b[0;34m)\u001b[0m\u001b[0;34m\u001b[0m\u001b[0;34m\u001b[0m\u001b[0m\n\u001b[1;32m      2\u001b[0m \u001b[0marr\u001b[0m\u001b[0;34m.\u001b[0m\u001b[0mflags\u001b[0m\u001b[0;34m.\u001b[0m\u001b[0mwriteable\u001b[0m \u001b[0;34m=\u001b[0m \u001b[0;32mFalse\u001b[0m\u001b[0;34m\u001b[0m\u001b[0;34m\u001b[0m\u001b[0m\n\u001b[0;32m----> 3\u001b[0;31m \u001b[0marr\u001b[0m\u001b[0;34m[\u001b[0m\u001b[0;36m0\u001b[0m\u001b[0;34m]\u001b[0m \u001b[0;34m=\u001b[0m \u001b[0;36m1\u001b[0m\u001b[0;34m\u001b[0m\u001b[0;34m\u001b[0m\u001b[0m\n\u001b[0m",
            "\u001b[0;31mValueError\u001b[0m: assignment destination is read-only"
          ]
        }
      ],
      "source": [
        "array = np.zeros(10)\n",
        "array.flags.writeable = False\n",
        "array[0] = 1"
      ]
    },
    {
      "cell_type": "markdown",
      "id": "91b25fb1",
      "metadata": {
        "id": "91b25fb1"
      },
      "source": [
        "#### 44. Consider a random 10x2 matrix representing cartesian coordinates, convert them to polar coordinates (★★☆)"
      ]
    },
    {
      "cell_type": "code",
      "execution_count": null,
      "id": "3f5fb344",
      "metadata": {
        "id": "3f5fb344",
        "colab": {
          "base_uri": "https://localhost:8080/"
        },
        "outputId": "7c73c176-971c-48ec-dcf8-adc32dd76bb5"
      },
      "outputs": [
        {
          "output_type": "stream",
          "name": "stdout",
          "text": [
            "[1.04834404 0.98709091 0.91974306 1.10271859 0.719249   0.85323224\n",
            " 0.59314138 0.98004    1.03214577 1.38163673]\n",
            "[1.18152683 0.34972871 1.07619483 0.56773946 0.90899702 0.19862796\n",
            " 0.35744378 0.79565029 0.31763281 0.80486493]\n"
          ]
        }
      ],
      "source": [
        "matr = np.random.random((10,2))\n",
        "X,Y = matr[:,0], matr[:,1]\n",
        "R = np.sqrt(X**2+Y**2)\n",
        "T = np.arctan2(Y,X)\n",
        "print(R)\n",
        "print(T)"
      ]
    },
    {
      "cell_type": "markdown",
      "id": "7e4116bc",
      "metadata": {
        "id": "7e4116bc"
      },
      "source": [
        "#### 45. Create random vector of size 10 and replace the maximum value by 0 (★★☆)"
      ]
    },
    {
      "cell_type": "code",
      "execution_count": null,
      "id": "b4e895f6",
      "metadata": {
        "id": "b4e895f6",
        "colab": {
          "base_uri": "https://localhost:8080/"
        },
        "outputId": "3f000568-72eb-46e4-8710-6f5a1c4df4fc"
      },
      "outputs": [
        {
          "output_type": "stream",
          "name": "stdout",
          "text": [
            "[0.69805794 0.85534007 0.96695694 0.20137387 0.36294121 0.63019207\n",
            " 0.88807668 0.27291977 0.72914792 0.54785948]\n",
            "[0.69805794 0.85534007 0.         0.20137387 0.36294121 0.63019207\n",
            " 0.88807668 0.27291977 0.72914792 0.54785948]\n"
          ]
        }
      ],
      "source": [
        "vec = np.random.random(10)\n",
        "print(vec)\n",
        "vec[vec.argmax()] = 0\n",
        "print(vec)"
      ]
    },
    {
      "cell_type": "markdown",
      "id": "f5b68c55",
      "metadata": {
        "id": "f5b68c55"
      },
      "source": [
        "#### 46. Create a structured array with `x` and `y` coordinates covering the [0,1]x[0,1] area (★★☆)"
      ]
    },
    {
      "cell_type": "code",
      "execution_count": null,
      "id": "32fd3691",
      "metadata": {
        "id": "32fd3691",
        "colab": {
          "base_uri": "https://localhost:8080/"
        },
        "outputId": "bda50d48-b759-4c76-c613-e184d3e43665"
      },
      "outputs": [
        {
          "output_type": "stream",
          "name": "stdout",
          "text": [
            "[[(0.  , 0.  ) (0.25, 0.  ) (0.5 , 0.  ) (0.75, 0.  ) (1.  , 0.  )]\n",
            " [(0.  , 0.25) (0.25, 0.25) (0.5 , 0.25) (0.75, 0.25) (1.  , 0.25)]\n",
            " [(0.  , 0.5 ) (0.25, 0.5 ) (0.5 , 0.5 ) (0.75, 0.5 ) (1.  , 0.5 )]\n",
            " [(0.  , 0.75) (0.25, 0.75) (0.5 , 0.75) (0.75, 0.75) (1.  , 0.75)]\n",
            " [(0.  , 1.  ) (0.25, 1.  ) (0.5 , 1.  ) (0.75, 1.  ) (1.  , 1.  )]]\n"
          ]
        }
      ],
      "source": [
        "array = np.zeros((5,5), [('x',float),('y',float)])\n",
        "array['x'], array['y'] = np.meshgrid(np.linspace(0,1,5),\n",
        "                             np.linspace(0,1,5))\n",
        "print(array)"
      ]
    },
    {
      "cell_type": "markdown",
      "id": "378bc4e9",
      "metadata": {
        "id": "378bc4e9"
      },
      "source": [
        "#### 47. Given two arrays, X and Y, construct the Cauchy matrix C (Cij =1/(xi - yj)) (★★☆)"
      ]
    },
    {
      "cell_type": "code",
      "execution_count": null,
      "id": "43282e51",
      "metadata": {
        "id": "43282e51",
        "colab": {
          "base_uri": "https://localhost:8080/"
        },
        "outputId": "733a3264-7a19-4772-846d-dbe72b164c00"
      },
      "outputs": [
        {
          "output_type": "stream",
          "name": "stdout",
          "text": [
            "3638.163637117973\n"
          ]
        }
      ],
      "source": [
        "X = np.arange(8)\n",
        "Y = X + 0.5\n",
        "C = 1.0 / np.subtract.outer(X, Y)\n",
        "print(np.linalg.det(C))"
      ]
    },
    {
      "cell_type": "markdown",
      "id": "7f45d2f9",
      "metadata": {
        "id": "7f45d2f9"
      },
      "source": [
        "#### 48. Print the minimum and maximum representable value for each numpy scalar type (★★☆)"
      ]
    },
    {
      "cell_type": "code",
      "execution_count": null,
      "id": "a7f37b9e",
      "metadata": {
        "id": "a7f37b9e",
        "colab": {
          "base_uri": "https://localhost:8080/"
        },
        "outputId": "9d943dd3-ca5d-4083-8299-26d2be7244c7"
      },
      "outputs": [
        {
          "output_type": "stream",
          "name": "stdout",
          "text": [
            "-128\n",
            "127\n",
            "-2147483648\n",
            "2147483647\n",
            "-9223372036854775808\n",
            "9223372036854775807\n",
            "-3.4028235e+38\n",
            "3.4028235e+38\n",
            "1.1920929e-07\n",
            "-1.7976931348623157e+308\n",
            "1.7976931348623157e+308\n",
            "2.220446049250313e-16\n"
          ]
        }
      ],
      "source": [
        "for dtype in [np.int8, np.int32, np.int64]:\n",
        "   print(np.iinfo(dtype).min)\n",
        "   print(np.iinfo(dtype).max)\n",
        "for dtype in [np.float32, np.float64]:\n",
        "   print(np.finfo(dtype).min)\n",
        "   print(np.finfo(dtype).max)\n",
        "   print(np.finfo(dtype).eps)"
      ]
    },
    {
      "cell_type": "markdown",
      "id": "1d269f07",
      "metadata": {
        "id": "1d269f07"
      },
      "source": [
        "#### 49. How to print all the values of an array? (★★☆)"
      ]
    },
    {
      "cell_type": "code",
      "execution_count": null,
      "id": "fde90b07",
      "metadata": {
        "id": "fde90b07",
        "colab": {
          "base_uri": "https://localhost:8080/",
          "height": 363
        },
        "outputId": "d4a8165b-2d8a-4884-d821-ee2cc5c5b486"
      },
      "outputs": [
        {
          "output_type": "error",
          "ename": "ValueError",
          "evalue": "ignored",
          "traceback": [
            "\u001b[0;31m---------------------------------------------------------------------------\u001b[0m",
            "\u001b[0;31mValueError\u001b[0m                                Traceback (most recent call last)",
            "\u001b[0;32m<ipython-input-57-d910cf038a01>\u001b[0m in \u001b[0;36m<cell line: 1>\u001b[0;34m()\u001b[0m\n\u001b[0;32m----> 1\u001b[0;31m \u001b[0mnp\u001b[0m\u001b[0;34m.\u001b[0m\u001b[0mset_printoptions\u001b[0m\u001b[0;34m(\u001b[0m\u001b[0mthreshold\u001b[0m\u001b[0;34m=\u001b[0m\u001b[0mnp\u001b[0m\u001b[0;34m.\u001b[0m\u001b[0mnan\u001b[0m\u001b[0;34m)\u001b[0m\u001b[0;34m\u001b[0m\u001b[0;34m\u001b[0m\u001b[0m\n\u001b[0m\u001b[1;32m      2\u001b[0m \u001b[0marray\u001b[0m \u001b[0;34m=\u001b[0m \u001b[0mnp\u001b[0m\u001b[0;34m.\u001b[0m\u001b[0mzeros\u001b[0m\u001b[0;34m(\u001b[0m\u001b[0;34m(\u001b[0m\u001b[0;36m16\u001b[0m\u001b[0;34m,\u001b[0m\u001b[0;36m16\u001b[0m\u001b[0;34m)\u001b[0m\u001b[0;34m)\u001b[0m\u001b[0;34m\u001b[0m\u001b[0;34m\u001b[0m\u001b[0m\n\u001b[1;32m      3\u001b[0m \u001b[0mprint\u001b[0m\u001b[0;34m(\u001b[0m\u001b[0marray\u001b[0m\u001b[0;34m)\u001b[0m\u001b[0;34m\u001b[0m\u001b[0;34m\u001b[0m\u001b[0m\n",
            "\u001b[0;32m/usr/local/lib/python3.9/dist-packages/numpy/core/arrayprint.py\u001b[0m in \u001b[0;36mset_printoptions\u001b[0;34m(precision, threshold, edgeitems, linewidth, suppress, nanstr, infstr, formatter, sign, floatmode, legacy)\u001b[0m\n\u001b[1;32m    275\u001b[0m \u001b[0;34m\u001b[0m\u001b[0m\n\u001b[1;32m    276\u001b[0m     \"\"\"\n\u001b[0;32m--> 277\u001b[0;31m     opt = _make_options_dict(precision, threshold, edgeitems, linewidth,\n\u001b[0m\u001b[1;32m    278\u001b[0m                              \u001b[0msuppress\u001b[0m\u001b[0;34m,\u001b[0m \u001b[0mnanstr\u001b[0m\u001b[0;34m,\u001b[0m \u001b[0minfstr\u001b[0m\u001b[0;34m,\u001b[0m \u001b[0msign\u001b[0m\u001b[0;34m,\u001b[0m \u001b[0mformatter\u001b[0m\u001b[0;34m,\u001b[0m\u001b[0;34m\u001b[0m\u001b[0;34m\u001b[0m\u001b[0m\n\u001b[1;32m    279\u001b[0m                              floatmode, legacy)\n",
            "\u001b[0;32m/usr/local/lib/python3.9/dist-packages/numpy/core/arrayprint.py\u001b[0m in \u001b[0;36m_make_options_dict\u001b[0;34m(precision, threshold, edgeitems, linewidth, suppress, nanstr, infstr, sign, formatter, floatmode, legacy)\u001b[0m\n\u001b[1;32m    101\u001b[0m             \u001b[0;32mraise\u001b[0m \u001b[0mTypeError\u001b[0m\u001b[0;34m(\u001b[0m\u001b[0;34m\"threshold must be numeric\"\u001b[0m\u001b[0;34m)\u001b[0m\u001b[0;34m\u001b[0m\u001b[0;34m\u001b[0m\u001b[0m\n\u001b[1;32m    102\u001b[0m         \u001b[0;32mif\u001b[0m \u001b[0mnp\u001b[0m\u001b[0;34m.\u001b[0m\u001b[0misnan\u001b[0m\u001b[0;34m(\u001b[0m\u001b[0mthreshold\u001b[0m\u001b[0;34m)\u001b[0m\u001b[0;34m:\u001b[0m\u001b[0;34m\u001b[0m\u001b[0;34m\u001b[0m\u001b[0m\n\u001b[0;32m--> 103\u001b[0;31m             raise ValueError(\"threshold must be non-NAN, try \"\n\u001b[0m\u001b[1;32m    104\u001b[0m                              \"sys.maxsize for untruncated representation\")\n\u001b[1;32m    105\u001b[0m \u001b[0;34m\u001b[0m\u001b[0m\n",
            "\u001b[0;31mValueError\u001b[0m: threshold must be non-NAN, try sys.maxsize for untruncated representation"
          ]
        }
      ],
      "source": [
        "np.set_printoptions(threshold=np.nan)\n",
        "array = np.zeros((16,16))\n",
        "print(array)"
      ]
    },
    {
      "cell_type": "markdown",
      "id": "ed655678",
      "metadata": {
        "id": "ed655678"
      },
      "source": [
        "#### 50. How to find the closest value (to a given scalar) in a vector? (★★☆)"
      ]
    },
    {
      "cell_type": "code",
      "execution_count": null,
      "id": "55e0812f",
      "metadata": {
        "id": "55e0812f",
        "colab": {
          "base_uri": "https://localhost:8080/"
        },
        "outputId": "4ad39a6f-149b-4cf1-f79b-f03f7329e9ae"
      },
      "outputs": [
        {
          "output_type": "stream",
          "name": "stdout",
          "text": [
            "56\n"
          ]
        }
      ],
      "source": [
        "X = np.arange(100)\n",
        "v = np.random.uniform(0,100)\n",
        "index = (np.abs(X-v)).argmin()\n",
        "print(X[index])"
      ]
    },
    {
      "cell_type": "markdown",
      "id": "3f73f88f",
      "metadata": {
        "id": "3f73f88f"
      },
      "source": [
        "#### 51. Create a structured array representing a position (x,y) and a color (r,g,b) (★★☆)"
      ]
    },
    {
      "cell_type": "code",
      "execution_count": null,
      "id": "74b51105",
      "metadata": {
        "id": "74b51105",
        "colab": {
          "base_uri": "https://localhost:8080/"
        },
        "outputId": "96fb1af9-d6a1-433d-b53b-f1665cbea727"
      },
      "outputs": [
        {
          "output_type": "stream",
          "name": "stdout",
          "text": [
            "[((0., 0.), (0., 0., 0.)) ((0., 0.), (0., 0., 0.))\n",
            " ((0., 0.), (0., 0., 0.)) ((0., 0.), (0., 0., 0.))\n",
            " ((0., 0.), (0., 0., 0.)) ((0., 0.), (0., 0., 0.))\n",
            " ((0., 0.), (0., 0., 0.)) ((0., 0.), (0., 0., 0.))\n",
            " ((0., 0.), (0., 0., 0.)) ((0., 0.), (0., 0., 0.))]\n"
          ]
        },
        {
          "output_type": "stream",
          "name": "stderr",
          "text": [
            "<ipython-input-59-57f8655657b5>:1: FutureWarning: Passing (type, 1) or '1type' as a synonym of type is deprecated; in a future version of numpy, it will be understood as (type, (1,)) / '(1,)type'.\n",
            "  array = np.zeros(10, [ ('position', [ ('x', float, 1),\n"
          ]
        }
      ],
      "source": [
        "array = np.zeros(10, [ ('position', [ ('x', float, 1),\n",
        "                                  ('y', float, 1)]),\n",
        "                   ('color',    [ ('r', float, 1),\n",
        "                                  ('g', float, 1),\n",
        "                                  ('b', float, 1)])])\n",
        "print(array)"
      ]
    },
    {
      "cell_type": "markdown",
      "id": "db83eee0",
      "metadata": {
        "id": "db83eee0"
      },
      "source": [
        "#### 52. Consider a random vector with shape (100,2) representing coordinates, find point by point distances (★★☆)"
      ]
    },
    {
      "cell_type": "code",
      "execution_count": null,
      "id": "10884922",
      "metadata": {
        "id": "10884922",
        "colab": {
          "base_uri": "https://localhost:8080/"
        },
        "outputId": "ca8fd6db-4cb1-45e5-ee3f-2e01ec052049"
      },
      "outputs": [
        {
          "output_type": "stream",
          "name": "stdout",
          "text": [
            "[[0.         0.56714084 0.60326907 0.55312286 0.64365774 0.63822389\n",
            "  0.56037124 0.42504699 0.20128718 0.07009804]\n",
            " [0.56714084 0.         0.56882013 0.51479335 0.52506401 0.43870156\n",
            "  0.11536796 0.51503417 0.6203885  0.51167579]\n",
            " [0.60326907 0.56882013 0.         0.06052306 0.08746284 0.17500836\n",
            "  0.6665628  0.17957613 0.78885922 0.53921755]\n",
            " [0.55312286 0.51479335 0.06052306 0.         0.09870339 0.15504975\n",
            "  0.60991434 0.13731073 0.73490577 0.48747846]\n",
            " [0.64365774 0.52506401 0.08746284 0.09870339 0.         0.09790732\n",
            "  0.62995567 0.23558153 0.81927574 0.57639318]\n",
            " [0.63822389 0.43870156 0.17500836 0.15504975 0.09790732 0.\n",
            "  0.54761725 0.27038774 0.79901964 0.56866284]\n",
            " [0.56037124 0.11536796 0.6665628  0.60991434 0.62995567 0.54761725\n",
            "  0.         0.59130678 0.57523168 0.51531847]\n",
            " [0.42504699 0.51503417 0.17957613 0.13731073 0.23558153 0.27038774\n",
            "  0.59130678 0.         0.61466543 0.36277231]\n",
            " [0.20128718 0.6203885  0.78885922 0.73490577 0.81927574 0.79901964\n",
            "  0.57523168 0.61466543 0.         0.25300822]\n",
            " [0.07009804 0.51167579 0.53921755 0.48747846 0.57639318 0.56866284\n",
            "  0.51531847 0.36277231 0.25300822 0.        ]]\n"
          ]
        }
      ],
      "source": [
        "vec = np.random.random((10,2))\n",
        "X,Y = np.atleast_2d(vec[:,0], vec[:,1])\n",
        "D = np.sqrt( (X-X.T)**2 + (Y-Y.T)**2)\n",
        "print(D)"
      ]
    },
    {
      "cell_type": "markdown",
      "id": "b90e0bb2",
      "metadata": {
        "id": "b90e0bb2"
      },
      "source": [
        "#### 53. How to convert a float (32 bits) array into an integer (32 bits) in place?"
      ]
    },
    {
      "cell_type": "code",
      "execution_count": null,
      "id": "db97ea05",
      "metadata": {
        "id": "db97ea05",
        "colab": {
          "base_uri": "https://localhost:8080/"
        },
        "outputId": "88cafeb8-405f-48f4-be86-736b4c2e9981"
      },
      "outputs": [
        {
          "output_type": "stream",
          "name": "stdout",
          "text": [
            "[0 1 2 3 4 5 6 7 8 9]\n",
            "[38 84 42 77 56  5 16 81  6  4]\n"
          ]
        }
      ],
      "source": [
        "array = (np.random.rand(10)*100).astype(np.float32)\n",
        "print(Z)\n",
        "Y = array.view(np.int32)\n",
        "Y[:] = array\n",
        "print(Y)"
      ]
    },
    {
      "cell_type": "markdown",
      "id": "0d1b021c",
      "metadata": {
        "id": "0d1b021c"
      },
      "source": [
        "#### 54. How to read the following file? (★★☆)\n",
        "```\n",
        "1, 2, 3, 4, 5\n",
        "6,  ,  , 7, 8\n",
        " ,  , 9,10,11\n",
        "```"
      ]
    },
    {
      "cell_type": "code",
      "execution_count": null,
      "id": "9551928e",
      "metadata": {
        "id": "9551928e",
        "colab": {
          "base_uri": "https://localhost:8080/"
        },
        "outputId": "6a819697-e7c2-4788-dd92-28031b3aaebe"
      },
      "outputs": [
        {
          "output_type": "stream",
          "name": "stdout",
          "text": [
            "[[ 1  2  3  4  5]\n",
            " [ 6 -1 -1  7  8]\n",
            " [-1 -1  9 10 11]]\n"
          ]
        }
      ],
      "source": [
        "from io import StringIO\n",
        "s = StringIO('''1, 2, 3, 4, 5\n",
        "                6,  ,  , 7, 8\n",
        "                 ,  , 9,10,11\n",
        "''')\n",
        "str = np.genfromtxt(s, delimiter=\",\", dtype=np.int32)\n",
        "print(str)"
      ]
    },
    {
      "cell_type": "markdown",
      "id": "56928772",
      "metadata": {
        "id": "56928772"
      },
      "source": [
        "#### 55. What is the equivalent of enumerate for numpy arrays? (★★☆)"
      ]
    },
    {
      "cell_type": "code",
      "execution_count": null,
      "id": "327d9b88",
      "metadata": {
        "id": "327d9b88",
        "colab": {
          "base_uri": "https://localhost:8080/"
        },
        "outputId": "6c9dba16-a32a-4dee-c312-545b0aabfe31"
      },
      "outputs": [
        {
          "output_type": "stream",
          "name": "stdout",
          "text": [
            "(0, 0) 0\n",
            "(0, 1) 1\n",
            "(0, 2) 2\n",
            "(1, 0) 3\n",
            "(1, 1) 4\n",
            "(1, 2) 5\n",
            "(2, 0) 6\n",
            "(2, 1) 7\n",
            "(2, 2) 8\n",
            "(0, 0) 0\n",
            "(0, 1) 1\n",
            "(0, 2) 2\n",
            "(1, 0) 3\n",
            "(1, 1) 4\n",
            "(1, 2) 5\n",
            "(2, 0) 6\n",
            "(2, 1) 7\n",
            "(2, 2) 8\n"
          ]
        }
      ],
      "source": [
        "array = np.arange(9).reshape(3,3)\n",
        "for index, value in np.ndenumerate(array):\n",
        "    print(index, value)\n",
        "for index in np.ndindex(array.shape):\n",
        "    print(index, array[index])"
      ]
    },
    {
      "cell_type": "markdown",
      "id": "257e0bac",
      "metadata": {
        "id": "257e0bac"
      },
      "source": [
        "#### 56. Generate a generic 2D Gaussian-like array (★★☆)"
      ]
    },
    {
      "cell_type": "code",
      "execution_count": null,
      "id": "1325d664",
      "metadata": {
        "id": "1325d664",
        "colab": {
          "base_uri": "https://localhost:8080/"
        },
        "outputId": "4ba72158-30ec-417c-9ba4-d51f826a8200"
      },
      "outputs": [
        {
          "output_type": "stream",
          "name": "stdout",
          "text": [
            "[[0.36787944 0.44822088 0.51979489 0.57375342 0.60279818 0.60279818\n",
            "  0.57375342 0.51979489 0.44822088 0.36787944]\n",
            " [0.44822088 0.54610814 0.63331324 0.69905581 0.73444367 0.73444367\n",
            "  0.69905581 0.63331324 0.54610814 0.44822088]\n",
            " [0.51979489 0.63331324 0.73444367 0.81068432 0.85172308 0.85172308\n",
            "  0.81068432 0.73444367 0.63331324 0.51979489]\n",
            " [0.57375342 0.69905581 0.81068432 0.89483932 0.9401382  0.9401382\n",
            "  0.89483932 0.81068432 0.69905581 0.57375342]\n",
            " [0.60279818 0.73444367 0.85172308 0.9401382  0.98773022 0.98773022\n",
            "  0.9401382  0.85172308 0.73444367 0.60279818]\n",
            " [0.60279818 0.73444367 0.85172308 0.9401382  0.98773022 0.98773022\n",
            "  0.9401382  0.85172308 0.73444367 0.60279818]\n",
            " [0.57375342 0.69905581 0.81068432 0.89483932 0.9401382  0.9401382\n",
            "  0.89483932 0.81068432 0.69905581 0.57375342]\n",
            " [0.51979489 0.63331324 0.73444367 0.81068432 0.85172308 0.85172308\n",
            "  0.81068432 0.73444367 0.63331324 0.51979489]\n",
            " [0.44822088 0.54610814 0.63331324 0.69905581 0.73444367 0.73444367\n",
            "  0.69905581 0.63331324 0.54610814 0.44822088]\n",
            " [0.36787944 0.44822088 0.51979489 0.57375342 0.60279818 0.60279818\n",
            "  0.57375342 0.51979489 0.44822088 0.36787944]]\n"
          ]
        }
      ],
      "source": [
        "X, Y = np.meshgrid(np.linspace(-1,1,10), np.linspace(-1,1,10))\n",
        "D = np.sqrt(X*X+Y*Y)\n",
        "sigma, mu = 1.0, 0.0\n",
        "G = np.exp(-( (D-mu)**2 / ( 2.0 * sigma**2 ) ) )\n",
        "print(G)"
      ]
    },
    {
      "cell_type": "markdown",
      "id": "441347ee",
      "metadata": {
        "id": "441347ee"
      },
      "source": [
        "#### 57. How to randomly place p elements in a 2D array? (★★☆)"
      ]
    },
    {
      "cell_type": "code",
      "execution_count": null,
      "id": "1e61fce5",
      "metadata": {
        "id": "1e61fce5",
        "colab": {
          "base_uri": "https://localhost:8080/"
        },
        "outputId": "7c926f0a-bb23-4579-8ffb-24702487e826"
      },
      "outputs": [
        {
          "output_type": "stream",
          "name": "stdout",
          "text": [
            "[[0. 0. 0. 0. 0. 1. 0. 0. 0. 0.]\n",
            " [0. 0. 1. 0. 0. 0. 0. 0. 0. 1.]\n",
            " [0. 0. 0. 0. 0. 0. 0. 0. 0. 0.]\n",
            " [0. 0. 0. 0. 0. 0. 0. 0. 0. 0.]\n",
            " [0. 0. 0. 0. 0. 0. 0. 0. 0. 0.]\n",
            " [0. 0. 0. 0. 0. 0. 0. 0. 0. 0.]\n",
            " [0. 0. 0. 0. 0. 0. 0. 0. 0. 0.]\n",
            " [0. 0. 0. 0. 0. 0. 0. 0. 0. 0.]\n",
            " [0. 0. 0. 0. 0. 0. 0. 0. 0. 0.]\n",
            " [0. 0. 0. 0. 0. 0. 0. 0. 0. 0.]]\n"
          ]
        }
      ],
      "source": [
        "n = 10\n",
        "p = 3\n",
        "array = np.zeros((n,n))\n",
        "np.put(array, np.random.choice(range(n*n), p, replace=False),1)\n",
        "print(array)"
      ]
    },
    {
      "cell_type": "markdown",
      "id": "8a76af52",
      "metadata": {
        "id": "8a76af52"
      },
      "source": [
        "#### 58. Subtract the mean of each row of a matrix (★★☆)"
      ]
    },
    {
      "cell_type": "code",
      "execution_count": null,
      "id": "65cf18e9",
      "metadata": {
        "id": "65cf18e9",
        "colab": {
          "base_uri": "https://localhost:8080/"
        },
        "outputId": "89c2bcfc-ed90-43c4-ae18-4c059bee70fe"
      },
      "outputs": [
        {
          "output_type": "stream",
          "name": "stdout",
          "text": [
            "[[-0.39697158  0.30180656 -0.35307747 -0.4688686   0.30912365 -0.46188644\n",
            "   0.42585739  0.23259866  0.42399121 -0.01257337]\n",
            " [-0.50504731 -0.24319043  0.21931796  0.33836425 -0.10949884 -0.216186\n",
            "   0.34149702  0.03839909  0.04180026  0.094544  ]\n",
            " [ 0.104822   -0.3201685   0.34770449  0.33203619 -0.18750979  0.04784065\n",
            "  -0.55404753  0.29673148 -0.08195775  0.01454876]\n",
            " [-0.27583329 -0.30775507  0.21466362  0.04296679  0.36716562  0.09661245\n",
            "  -0.33607115 -0.25714563  0.04704034  0.40835632]\n",
            " [-0.07083352 -0.22023541 -0.09260575  0.13248908 -0.08221921  0.38724255\n",
            "   0.14668619 -0.04026474  0.19409385 -0.35435304]]\n"
          ]
        }
      ],
      "source": [
        "X = np.random.rand(5, 10)\n",
        "Y = X - X.mean(axis=1, keepdims=True)\n",
        "Y = X - X.mean(axis=1).reshape(-1, 1)\n",
        "print(Y)"
      ]
    },
    {
      "cell_type": "markdown",
      "id": "d2dc8b5f",
      "metadata": {
        "id": "d2dc8b5f"
      },
      "source": [
        "#### 59. How to sort an array by the nth column? (★★☆)"
      ]
    },
    {
      "cell_type": "code",
      "execution_count": null,
      "id": "83b5eafe",
      "metadata": {
        "id": "83b5eafe",
        "colab": {
          "base_uri": "https://localhost:8080/"
        },
        "outputId": "5fd43799-a84c-457d-8c32-4d2adbcc6c00"
      },
      "outputs": [
        {
          "output_type": "stream",
          "name": "stdout",
          "text": [
            "[[1 8 3]\n",
            " [5 8 8]\n",
            " [6 5 4]]\n",
            "[[6 5 4]\n",
            " [1 8 3]\n",
            " [5 8 8]]\n"
          ]
        }
      ],
      "source": [
        "array = np.random.randint(0,10,(3,3))\n",
        "print(array)\n",
        "print(array[array[:,1].argsort()])"
      ]
    },
    {
      "cell_type": "markdown",
      "id": "4886f74e",
      "metadata": {
        "id": "4886f74e"
      },
      "source": [
        "#### 60. How to tell if a given 2D array has null columns? (★★☆)"
      ]
    },
    {
      "cell_type": "code",
      "execution_count": null,
      "id": "7a066dd9",
      "metadata": {
        "id": "7a066dd9",
        "colab": {
          "base_uri": "https://localhost:8080/"
        },
        "outputId": "5dcda994-237b-458a-8baf-c74e7982f0e0"
      },
      "outputs": [
        {
          "output_type": "stream",
          "name": "stdout",
          "text": [
            "True\n"
          ]
        }
      ],
      "source": [
        "array2d = np.random.randint(0,3,(3,10))\n",
        "print((~array2d.any(axis=0)).any())"
      ]
    },
    {
      "cell_type": "markdown",
      "id": "1f5ad2a9",
      "metadata": {
        "id": "1f5ad2a9"
      },
      "source": [
        "#### 61. Find the nearest value from a given value in an array (★★☆)"
      ]
    },
    {
      "cell_type": "code",
      "execution_count": null,
      "id": "f53df167",
      "metadata": {
        "id": "f53df167",
        "colab": {
          "base_uri": "https://localhost:8080/"
        },
        "outputId": "4c4a2359-b345-4331-bcf9-6e17f1110d00"
      },
      "outputs": [
        {
          "output_type": "stream",
          "name": "stdout",
          "text": [
            "0.5717603127822464\n"
          ]
        }
      ],
      "source": [
        "array = np.random.uniform(0,1,10)\n",
        "y = 0.5\n",
        "x = array.flat[np.abs(array - y).argmin()]\n",
        "print(x)"
      ]
    },
    {
      "cell_type": "markdown",
      "id": "aa48f9b2",
      "metadata": {
        "id": "aa48f9b2"
      },
      "source": [
        "#### 62. Considering two arrays with shape (1,3) and (3,1), how to compute their sum using an iterator? (★★☆)"
      ]
    },
    {
      "cell_type": "code",
      "execution_count": null,
      "id": "68987301",
      "metadata": {
        "id": "68987301",
        "colab": {
          "base_uri": "https://localhost:8080/"
        },
        "outputId": "00cdc694-d6ac-4028-a3e5-9ef2ffe2aa58"
      },
      "outputs": [
        {
          "output_type": "stream",
          "name": "stdout",
          "text": [
            "[[0 1 2]\n",
            " [1 2 3]\n",
            " [2 3 4]]\n"
          ]
        }
      ],
      "source": [
        "array1 = np.arange(3).reshape(3,1)\n",
        "array2 = np.arange(3).reshape(1,3)\n",
        "it = np.nditer([array1,array2,None])\n",
        "for x,y,z in it: z[...] = x + y\n",
        "print(it.operands[2])"
      ]
    },
    {
      "cell_type": "markdown",
      "id": "0bed1516",
      "metadata": {
        "id": "0bed1516"
      },
      "source": [
        "#### 63. Create an array class that has a name attribute (★★☆)"
      ]
    },
    {
      "cell_type": "code",
      "execution_count": null,
      "id": "fa1d52fc",
      "metadata": {
        "id": "fa1d52fc",
        "colab": {
          "base_uri": "https://localhost:8080/"
        },
        "outputId": "1429c6d9-6144-4089-d682-1d3ff50fa863"
      },
      "outputs": [
        {
          "output_type": "stream",
          "name": "stdout",
          "text": [
            "range_10\n"
          ]
        }
      ],
      "source": [
        "class NamedArray(np.ndarray):\n",
        "    def __new__(cls, array, name=\"no name\"):\n",
        "        obj = np.asarray(array).view(cls)\n",
        "        obj.name = name\n",
        "        return obj\n",
        "    def __array_finalize__(self, obj):\n",
        "        if obj is None: return\n",
        "        self.info = getattr(obj, 'name', \"no name\")\n",
        "array = NamedArray(np.arange(10), \"range_10\")\n",
        "print (array.name)"
      ]
    },
    {
      "cell_type": "markdown",
      "id": "463a40bb",
      "metadata": {
        "id": "463a40bb"
      },
      "source": [
        "#### 64. Consider a given vector, how to add 1 to each element indexed by a second vector (be careful with repeated indices)? (★★★)"
      ]
    },
    {
      "cell_type": "code",
      "execution_count": null,
      "id": "cdb2cad0",
      "metadata": {
        "id": "cdb2cad0",
        "colab": {
          "base_uri": "https://localhost:8080/"
        },
        "outputId": "e7f9bc0e-6c0a-4e12-b25e-df888f0e7dce"
      },
      "outputs": [
        {
          "output_type": "stream",
          "name": "stdout",
          "text": [
            "[1. 1. 5. 2. 3. 3. 4. 4. 5. 2.]\n",
            "[1. 1. 9. 3. 5. 5. 7. 7. 9. 3.]\n"
          ]
        }
      ],
      "source": [
        "vec1 = np.ones(10)\n",
        "vec2 = np.random.randint(0,len(vec1),20)\n",
        "vec1 += np.bincount(vec2, minlength=len(vec1))\n",
        "print(vec1)\n",
        "np.add.at(vec1, vec2, 1)\n",
        "print(vec1)"
      ]
    },
    {
      "cell_type": "markdown",
      "id": "2a2f8219",
      "metadata": {
        "id": "2a2f8219"
      },
      "source": [
        "#### 65. How to accumulate elements of a vector (X) to an array (F) based on an index list (I)? (★★★)"
      ]
    },
    {
      "cell_type": "code",
      "execution_count": null,
      "id": "9cc34a77",
      "metadata": {
        "id": "9cc34a77",
        "colab": {
          "base_uri": "https://localhost:8080/"
        },
        "outputId": "b3564f79-d28e-42db-b6d7-4bdae6f16156"
      },
      "outputs": [
        {
          "output_type": "stream",
          "name": "stdout",
          "text": [
            "[0. 7. 0. 6. 5. 0. 0. 0. 0. 3.]\n"
          ]
        }
      ],
      "source": [
        "X = [1,2,3,4,5,6]\n",
        "l = [1,3,9,3,4,1]\n",
        "F = np.bincount(l,X)\n",
        "print(F)"
      ]
    },
    {
      "cell_type": "markdown",
      "id": "6a6a3c66",
      "metadata": {
        "id": "6a6a3c66"
      },
      "source": [
        "#### 66. Considering a (w,h,3) image of (dtype=ubyte), compute the number of unique colors (★★☆)"
      ]
    },
    {
      "cell_type": "code",
      "execution_count": null,
      "id": "c88f5a5e",
      "metadata": {
        "id": "c88f5a5e",
        "colab": {
          "base_uri": "https://localhost:8080/"
        },
        "outputId": "a3697225-9127-48bc-c1bb-66692d41c1dc"
      },
      "outputs": [
        {
          "output_type": "stream",
          "name": "stdout",
          "text": [
            "[0 1]\n"
          ]
        }
      ],
      "source": [
        "w,h = 16,16\n",
        "arr = np.random.randint(0,2,(h,w,3)).astype(np.ubyte)\n",
        "F = arr[...,0]*256*256 + arr[...,1]*256 +arr[...,2]\n",
        "n = len(np.unique(F))\n",
        "print(np.unique(arr))"
      ]
    },
    {
      "cell_type": "markdown",
      "id": "4b030baa",
      "metadata": {
        "id": "4b030baa"
      },
      "source": [
        "#### 67. Considering a four dimensions array, how to get sum over the last two axis at once? (★★★)"
      ]
    },
    {
      "cell_type": "code",
      "execution_count": null,
      "id": "cd2e7c9c",
      "metadata": {
        "id": "cd2e7c9c",
        "colab": {
          "base_uri": "https://localhost:8080/"
        },
        "outputId": "94693d59-e6c2-40c4-d575-8e8c1ffd3dd6"
      },
      "outputs": [
        {
          "output_type": "stream",
          "name": "stdout",
          "text": [
            "[[73 47 53 43]\n",
            " [63 67 58 45]\n",
            " [52 34 62 62]]\n",
            "[[73 47 53 43]\n",
            " [63 67 58 45]\n",
            " [52 34 62 62]]\n"
          ]
        }
      ],
      "source": [
        "X = np.random.randint(0,10,(3,4,3,4))\n",
        "sum = X.sum(axis=(-2,-1))\n",
        "print(sum)\n",
        "\n",
        "\n",
        "sum = X.reshape(X.shape[:-2] + (-1,)).sum(axis=-1)\n",
        "print(sum)"
      ]
    },
    {
      "cell_type": "markdown",
      "id": "1fa6053b",
      "metadata": {
        "id": "1fa6053b"
      },
      "source": [
        "#### 68. Considering a one-dimensional vector D, how to compute means of subsets of D using a vector S of same size describing subset  indices? (★★★)"
      ]
    },
    {
      "cell_type": "code",
      "execution_count": null,
      "id": "9b5a070d",
      "metadata": {
        "id": "9b5a070d",
        "colab": {
          "base_uri": "https://localhost:8080/"
        },
        "outputId": "020a05cd-7593-4509-d482-bb0b0e0f1835"
      },
      "outputs": [
        {
          "output_type": "stream",
          "name": "stdout",
          "text": [
            "[0.67973985 0.65527696 0.58797492 0.68238009 0.54900696 0.40262236\n",
            " 0.52555669 0.51204006 0.43330547 0.63923466]\n",
            "0    0.679740\n",
            "1    0.655277\n",
            "2    0.587975\n",
            "3    0.682380\n",
            "4    0.549007\n",
            "5    0.402622\n",
            "6    0.525557\n",
            "7    0.512040\n",
            "8    0.433305\n",
            "9    0.639235\n",
            "dtype: float64\n"
          ]
        }
      ],
      "source": [
        "D = np.random.uniform(0,1,100)\n",
        "S = np.random.randint(0,10,100)\n",
        "D_sums = np.bincount(S, weights=D)\n",
        "D_counts = np.bincount(S)\n",
        "D_means = D_sums / D_counts\n",
        "print(D_means)\n",
        "\n",
        "import pandas as pd\n",
        "print(pd.Series(D).groupby(S).mean())"
      ]
    },
    {
      "cell_type": "markdown",
      "id": "2e7b0395",
      "metadata": {
        "id": "2e7b0395"
      },
      "source": [
        "#### 69. How to get the diagonal of a dot product? (★★★)"
      ]
    },
    {
      "cell_type": "code",
      "execution_count": null,
      "id": "ae437196",
      "metadata": {
        "id": "ae437196",
        "colab": {
          "base_uri": "https://localhost:8080/"
        },
        "outputId": "446a1303-b304-4fab-fa17-8417dcf185ec"
      },
      "outputs": [
        {
          "output_type": "execute_result",
          "data": {
            "text/plain": [
              "array([1.30378226, 1.64932551, 1.94540351, 1.60920425, 0.55418105])"
            ]
          },
          "metadata": {},
          "execution_count": 77
        }
      ],
      "source": [
        "A = np.random.uniform(0,1,(5,5))\n",
        "B = np.random.uniform(0,1,(5,5))\n",
        "\n",
        "np.diag(np.dot(A, B))\n",
        "\n",
        "np.sum(A * B.T, axis=1)\n",
        "\n",
        "np.einsum(\"ij,ji->i\", A, B)"
      ]
    },
    {
      "cell_type": "markdown",
      "id": "2bf2f8e4",
      "metadata": {
        "id": "2bf2f8e4"
      },
      "source": [
        "#### 70. Consider the vector [1, 2, 3, 4, 5], how to build a new vector with 3 consecutive zeros interleaved between each value? (★★★)"
      ]
    },
    {
      "cell_type": "code",
      "execution_count": null,
      "id": "8a427342",
      "metadata": {
        "id": "8a427342",
        "colab": {
          "base_uri": "https://localhost:8080/"
        },
        "outputId": "acec1011-6e82-441a-e72d-f427325c02cd"
      },
      "outputs": [
        {
          "output_type": "stream",
          "name": "stdout",
          "text": [
            "[1. 0. 0. 0. 2. 0. 0. 0. 3. 0. 0. 0. 4. 0. 0. 0. 5.]\n"
          ]
        }
      ],
      "source": [
        "vec = np.array([1,2,3,4,5])\n",
        "nz = 3\n",
        "vec0 = np.zeros(len(vec) + (len(vec)-1)*(nz))\n",
        "vec0[::nz+1] = vec\n",
        "print(vec0)"
      ]
    },
    {
      "cell_type": "markdown",
      "id": "fff802ea",
      "metadata": {
        "id": "fff802ea"
      },
      "source": [
        "#### 71. Consider an array of dimension (5,5,3), how to mulitply it by an array with dimensions (5,5)? (★★★)"
      ]
    },
    {
      "cell_type": "code",
      "execution_count": null,
      "id": "e83ab7b5",
      "metadata": {
        "id": "e83ab7b5",
        "colab": {
          "base_uri": "https://localhost:8080/"
        },
        "outputId": "214f0071-9e99-4260-8f8e-cbb6f6435736"
      },
      "outputs": [
        {
          "output_type": "stream",
          "name": "stdout",
          "text": [
            "[[[2. 2. 2.]\n",
            "  [2. 2. 2.]\n",
            "  [2. 2. 2.]\n",
            "  [2. 2. 2.]\n",
            "  [2. 2. 2.]]\n",
            "\n",
            " [[2. 2. 2.]\n",
            "  [2. 2. 2.]\n",
            "  [2. 2. 2.]\n",
            "  [2. 2. 2.]\n",
            "  [2. 2. 2.]]\n",
            "\n",
            " [[2. 2. 2.]\n",
            "  [2. 2. 2.]\n",
            "  [2. 2. 2.]\n",
            "  [2. 2. 2.]\n",
            "  [2. 2. 2.]]\n",
            "\n",
            " [[2. 2. 2.]\n",
            "  [2. 2. 2.]\n",
            "  [2. 2. 2.]\n",
            "  [2. 2. 2.]\n",
            "  [2. 2. 2.]]\n",
            "\n",
            " [[2. 2. 2.]\n",
            "  [2. 2. 2.]\n",
            "  [2. 2. 2.]\n",
            "  [2. 2. 2.]\n",
            "  [2. 2. 2.]]]\n"
          ]
        }
      ],
      "source": [
        "array1 = np.ones((5,5,3))\n",
        "array2 = 2*np.ones((5,5))\n",
        "print(array1 * array2[:,:,None])"
      ]
    },
    {
      "cell_type": "markdown",
      "id": "a0865c04",
      "metadata": {
        "id": "a0865c04"
      },
      "source": [
        "#### 72. How to swap two rows of an array? (★★★)"
      ]
    },
    {
      "cell_type": "code",
      "execution_count": null,
      "id": "bb510428",
      "metadata": {
        "id": "bb510428",
        "colab": {
          "base_uri": "https://localhost:8080/"
        },
        "outputId": "659d4ed6-61e9-4096-b9db-cc0cdbe1c016"
      },
      "outputs": [
        {
          "output_type": "stream",
          "name": "stdout",
          "text": [
            "[[ 5  6  7  8  9]\n",
            " [ 0  1  2  3  4]\n",
            " [10 11 12 13 14]\n",
            " [15 16 17 18 19]\n",
            " [20 21 22 23 24]]\n"
          ]
        }
      ],
      "source": [
        "array = np.arange(25).reshape(5,5)\n",
        "array[[0,1]] = array[[1,0]]\n",
        "print(array)"
      ]
    },
    {
      "cell_type": "markdown",
      "id": "52beda8d",
      "metadata": {
        "id": "52beda8d"
      },
      "source": [
        "#### 73. Consider a set of 10 triplets describing 10 triangles (with shared vertices), find the set of unique line segments composing all the  triangles (★★★)"
      ]
    },
    {
      "cell_type": "code",
      "execution_count": null,
      "id": "5b9895de",
      "metadata": {
        "id": "5b9895de",
        "colab": {
          "base_uri": "https://localhost:8080/"
        },
        "outputId": "56bd7f62-d579-4c56-a31e-ee23c761faf1"
      },
      "outputs": [
        {
          "output_type": "stream",
          "name": "stdout",
          "text": [
            "[( 2, 40) ( 2, 51) ( 3, 14) ( 3, 30) ( 4, 32) ( 4, 51) ( 6, 70) ( 6, 87)\n",
            " ( 9, 26) ( 9, 75) (14, 30) (17, 22) (17, 84) (20, 35) (20, 57) (22, 84)\n",
            " (26, 30) (26, 71) (26, 75) (26, 88) (26, 95) (30, 95) (32, 42) (32, 50)\n",
            " (32, 51) (35, 57) (40, 51) (42, 50) (70, 87) (71, 88)]\n"
          ]
        }
      ],
      "source": [
        "faces = np.random.randint(0,100,(10,3))\n",
        "F = np.roll(faces.repeat(2,axis=1),-1,axis=1)\n",
        "F = F.reshape(len(F)*3,2)\n",
        "F = np.sort(F,axis=1)\n",
        "G = F.view( dtype=[('p0',F.dtype),('p1',F.dtype)] )\n",
        "G = np.unique(G)\n",
        "print(G)"
      ]
    },
    {
      "cell_type": "markdown",
      "id": "b1f8e571",
      "metadata": {
        "id": "b1f8e571"
      },
      "source": [
        "#### 74. Given a sorted array C that corresponds to a bincount, how to produce an array A such that np.bincount(A) == C? (★★★)"
      ]
    },
    {
      "cell_type": "code",
      "execution_count": null,
      "id": "ea6d42e9",
      "metadata": {
        "id": "ea6d42e9",
        "colab": {
          "base_uri": "https://localhost:8080/"
        },
        "outputId": "97ae8cc9-ddef-444a-e033-4f7dfe22fa56"
      },
      "outputs": [
        {
          "output_type": "stream",
          "name": "stdout",
          "text": [
            "[1 1 2 3 4 4 6]\n"
          ]
        }
      ],
      "source": [
        "C = np.bincount([1,1,2,3,4,4,6])\n",
        "A = np.repeat(np.arange(len(C)), C)\n",
        "print(A)"
      ]
    },
    {
      "cell_type": "markdown",
      "id": "db1ed658",
      "metadata": {
        "id": "db1ed658"
      },
      "source": [
        "#### 75. How to compute averages using a sliding window over an array? (★★★)"
      ]
    },
    {
      "cell_type": "code",
      "execution_count": null,
      "id": "9dc6a98a",
      "metadata": {
        "id": "9dc6a98a",
        "colab": {
          "base_uri": "https://localhost:8080/"
        },
        "outputId": "730ec3d4-5af4-4661-8102-648862df7a07"
      },
      "outputs": [
        {
          "output_type": "stream",
          "name": "stdout",
          "text": [
            "[ 1.  2.  3.  4.  5.  6.  7.  8.  9. 10. 11. 12. 13. 14. 15. 16. 17. 18.]\n"
          ]
        }
      ],
      "source": [
        "def moving_average(a, n=3) :\n",
        "    ret = np.cumsum(a, dtype=float)\n",
        "    ret[n:] = ret[n:] - ret[:-n]\n",
        "    return ret[n - 1:] / n\n",
        "array = np.arange(20)\n",
        "print(moving_average(array, n=3))"
      ]
    },
    {
      "cell_type": "markdown",
      "id": "1ca35bda",
      "metadata": {
        "id": "1ca35bda"
      },
      "source": [
        "#### 76. Consider a one-dimensional array Z, build a two-dimensional array whose first row is (Z[0],Z[1],Z[2]) and each subsequent row is  shifted by 1 (last row should be (Z[-3],Z[-2],Z[-1]) (★★★)"
      ]
    },
    {
      "cell_type": "code",
      "execution_count": null,
      "id": "900e8b0a",
      "metadata": {
        "id": "900e8b0a",
        "colab": {
          "base_uri": "https://localhost:8080/"
        },
        "outputId": "c222ae42-ead1-4c06-9fb5-34073291a20d"
      },
      "outputs": [
        {
          "output_type": "stream",
          "name": "stdout",
          "text": [
            "[[0 1 2]\n",
            " [1 2 3]\n",
            " [2 3 4]\n",
            " [3 4 5]\n",
            " [4 5 6]\n",
            " [5 6 7]\n",
            " [6 7 8]\n",
            " [7 8 9]]\n"
          ]
        }
      ],
      "source": [
        "from numpy.lib import stride_tricks\n",
        "def rolling(a, window):\n",
        "    shape = (a.size - window + 1, window)\n",
        "    strides = (a.itemsize, a.itemsize)\n",
        "    return stride_tricks.as_strided(a, shape=shape, strides=strides)\n",
        "Z = rolling(np.arange(10), 3)\n",
        "print(Z)"
      ]
    },
    {
      "cell_type": "markdown",
      "id": "18bd6fab",
      "metadata": {
        "id": "18bd6fab"
      },
      "source": [
        "#### 77. How to negate a boolean, or to change the sign of a float inplace? (★★★)"
      ]
    },
    {
      "cell_type": "code",
      "execution_count": null,
      "id": "554c5103",
      "metadata": {
        "id": "554c5103",
        "colab": {
          "base_uri": "https://localhost:8080/"
        },
        "outputId": "948531d9-ca8b-46de-dde4-3701be281559"
      },
      "outputs": [
        {
          "output_type": "execute_result",
          "data": {
            "text/plain": [
              "array([-0.81149596, -0.91681065, -0.69555872,  0.26838507,  0.06883437,\n",
              "        0.98046904, -0.86998369, -0.57267385, -0.03795299,  0.15916655,\n",
              "       -0.64127717, -0.12375351,  0.78920316,  0.99134174,  0.97582372,\n",
              "       -0.91666719, -0.58113295, -0.16055107,  0.15944809,  0.35165016,\n",
              "        0.32711556, -0.64922416,  0.67390195, -0.63062955,  0.11035629,\n",
              "        0.39421513, -0.35007396, -0.10550822,  0.39984323, -0.80296866,\n",
              "        0.6069859 , -0.78629554, -0.87115696, -0.95509367,  0.09129407,\n",
              "        0.59287802, -0.9780754 , -0.91974776, -0.80397265, -0.89271532,\n",
              "       -0.08779869, -0.32234355, -0.79544854, -0.6540971 ,  0.33874561,\n",
              "        0.36913297,  0.42580269,  0.62548957,  0.36022588, -0.55924603,\n",
              "       -0.01245789,  0.11141935,  0.65121967, -0.73800386, -0.51495537,\n",
              "       -0.72430745, -0.59524996,  0.29638505, -0.03550677,  0.31473038,\n",
              "        0.00948966,  0.01570924,  0.53689038, -0.33782359,  0.16432582,\n",
              "       -0.50434527,  0.99822535, -0.21671648,  0.02120211, -0.35065332,\n",
              "        0.19657878,  0.87303196,  0.3703243 ,  0.88123056, -0.53843597,\n",
              "       -0.83345299,  0.51983477, -0.74723987,  0.57013488,  0.3024915 ,\n",
              "       -0.38159999, -0.72047442, -0.67841305, -0.9252057 ,  0.98564373,\n",
              "        0.93252952, -0.00967142, -0.93328619,  0.39068108,  0.71972009,\n",
              "        0.43667587, -0.01795228,  0.73014484,  0.31019434, -0.32212415,\n",
              "        0.15999672, -0.14468487,  0.74024284,  0.44744249,  0.92617579])"
            ]
          },
          "metadata": {},
          "execution_count": 85
        }
      ],
      "source": [
        "array = np.random.randint(0,2,100)\n",
        "np.logical_not(array, out=array)\n",
        "array = np.random.uniform(-1.0,1.0,100)\n",
        "np.negative(array, out=array)"
      ]
    },
    {
      "cell_type": "markdown",
      "id": "79a5b412",
      "metadata": {
        "id": "79a5b412"
      },
      "source": [
        "#### 78. Consider 2 sets of points P0,P1 describing lines (2d) and a point p, how to compute distance from p to each line i (P0[i],P1[i])? (★★★)"
      ]
    },
    {
      "cell_type": "code",
      "execution_count": null,
      "id": "4e4eac2f",
      "metadata": {
        "id": "4e4eac2f",
        "colab": {
          "base_uri": "https://localhost:8080/"
        },
        "outputId": "0682466d-b195-4392-8cd6-b39f06254b9e"
      },
      "outputs": [
        {
          "output_type": "stream",
          "name": "stdout",
          "text": [
            "[ 2.14723594  1.73264471  3.95344851  0.65414653  0.20477488  4.23509213\n",
            " 11.07876929  1.63525523  3.84313535  6.00842389]\n"
          ]
        }
      ],
      "source": [
        "def distance(P0, P1, p):\n",
        "    T = P1 - P0\n",
        "    L = (T**2).sum(axis=1)\n",
        "    U = -((P0[:,0]-p[...,0])*T[:,0] + (P0[:,1]-p[...,1])*T[:,1]) / L\n",
        "    U = U.reshape(len(U),1)\n",
        "    D = P0 + U*T - p\n",
        "    return np.sqrt((D**2).sum(axis=1))\n",
        "P0 = np.random.uniform(-10,10,(10,2))\n",
        "P1 = np.random.uniform(-10,10,(10,2))\n",
        "p  = np.random.uniform(-10,10,( 1,2))\n",
        "print(distance(P0, P1, p))"
      ]
    },
    {
      "cell_type": "markdown",
      "id": "33ffa66d",
      "metadata": {
        "id": "33ffa66d"
      },
      "source": [
        "#### 79. Consider 2 sets of points P0,P1 describing lines (2d) and a set of points P, how to compute distance from each point j (P[j]) to each line i (P0[i],P1[i])? (★★★)"
      ]
    },
    {
      "cell_type": "code",
      "execution_count": null,
      "id": "b56c2510",
      "metadata": {
        "id": "b56c2510",
        "colab": {
          "base_uri": "https://localhost:8080/"
        },
        "outputId": "c341b30a-3b66-4b39-8f26-c1d5bda11b54"
      },
      "outputs": [
        {
          "output_type": "stream",
          "name": "stdout",
          "text": [
            "[[ 1.25786038  5.10161876  2.11803328  2.91155915  7.67190638  3.15030334\n",
            "   1.95608334  2.14522325  0.90675715  2.94333685]\n",
            " [ 1.34719567 12.96339155  6.593002    0.47727307 15.87096034  3.60532807\n",
            "   2.67276506  8.17873841  5.03878853  0.75787154]\n",
            " [ 2.15430778  6.85765524  4.00509188  1.10417986  8.66646128  4.60246797\n",
            "   0.06057653  2.14724729  0.93339607  1.10968626]\n",
            " [ 4.82024619  8.8330731   1.3353054   4.74339735 14.3041117   1.05684876\n",
            "   2.5808745   9.41605647  6.35184386  4.48443661]\n",
            " [ 4.46801502  9.59240233  7.49478665  2.36255847  9.69588753  7.70229098\n",
            "   3.42618393  1.31512244  1.81575399  2.37096243]\n",
            " [ 2.86986641 10.47415357  3.76679096  2.2637547  14.60375293  1.31668838\n",
            "   0.16100394  8.40518693  5.30740379  2.0129832 ]\n",
            " [11.18302577  0.95445236  3.42472174  0.10448374  3.1262841  10.03371701\n",
            "   0.9067842   9.71027989 12.74277672  0.40093739]\n",
            " [ 2.61539057  0.37111186  3.8409506   8.816622    5.81823346  2.09390099\n",
            "   7.9122527   3.46723784  0.50136327  8.87625613]\n",
            " [ 9.29435554  0.66701658  2.51164749  1.04595257  1.81133181  8.4119607\n",
            "   1.78278401  7.85721851 10.88199658  1.4871781 ]\n",
            " [ 5.92047375  3.31816829  1.55031097  5.21029158  2.16913478  4.37375427\n",
            "   5.8220671   6.0211269   8.99031201  5.63172353]]\n"
          ]
        }
      ],
      "source": [
        "P0 = np.random.uniform(-10, 10, (10,2))\n",
        "P1 = np.random.uniform(-10,10,(10,2))\n",
        "p = np.random.uniform(-10, 10, (10,2))\n",
        "print(np.array([distance(P0,P1,p_i) for p_i in p]))"
      ]
    },
    {
      "cell_type": "markdown",
      "id": "a0f23dfa",
      "metadata": {
        "id": "a0f23dfa"
      },
      "source": [
        "#### 80. Consider an arbitrary array, write a function that extract a subpart with a fixed shape and centered on a given element (pad with a `fill` value when necessary) (★★★)"
      ]
    },
    {
      "cell_type": "code",
      "execution_count": null,
      "id": "4b7b96fc",
      "metadata": {
        "id": "4b7b96fc",
        "colab": {
          "base_uri": "https://localhost:8080/"
        },
        "outputId": "cf56f7ca-4f08-461b-e7ef-56b90550c2ce"
      },
      "outputs": [
        {
          "output_type": "stream",
          "name": "stdout",
          "text": [
            "[[5 4 1 4 9 6 0 3 9 1]\n",
            " [5 8 6 3 9 2 7 9 5 9]\n",
            " [3 6 7 8 3 4 4 0 2 3]\n",
            " [4 8 9 2 1 6 8 0 4 7]\n",
            " [7 9 4 1 0 6 8 6 3 5]\n",
            " [8 8 1 1 7 0 0 4 5 4]\n",
            " [6 3 0 2 6 2 8 1 5 7]\n",
            " [6 3 6 1 4 8 2 9 8 6]\n",
            " [1 7 5 8 9 4 0 4 3 6]\n",
            " [5 9 3 1 7 5 8 7 4 1]]\n",
            "[[0 0 0 0 0]\n",
            " [0 5 4 1 4]\n",
            " [0 5 8 6 3]\n",
            " [0 3 6 7 8]\n",
            " [0 4 8 9 2]]\n"
          ]
        },
        {
          "output_type": "stream",
          "name": "stderr",
          "text": [
            "<ipython-input-88-5b40f7b64231>:19: FutureWarning: Using a non-tuple sequence for multidimensional indexing is deprecated; use `arr[tuple(seq)]` instead of `arr[seq]`. In the future this will be interpreted as an array index, `arr[np.array(seq)]`, which will result either in an error or a different result.\n",
            "  R[r] = array[z]\n"
          ]
        }
      ],
      "source": [
        "array = np.random.randint(0,10,(10,10))\n",
        "shape = (5,5)\n",
        "fill  = 0\n",
        "position = (1,1)\n",
        "R = np.ones(shape, dtype=array.dtype)*fill\n",
        "P  = np.array(list(position)).astype(int)\n",
        "Rs = np.array(list(R.shape)).astype(int)\n",
        "Zs = np.array(list(array.shape)).astype(int)\n",
        "R_start = np.zeros((len(shape),)).astype(int)\n",
        "R_stop  = np.array(list(shape)).astype(int)\n",
        "Z_start = (P-Rs//2)\n",
        "Z_stop  = (P+Rs//2)+Rs%2\n",
        "R_start = (R_start - np.minimum(Z_start,0)).tolist()\n",
        "Z_start = (np.maximum(Z_start,0)).tolist()\n",
        "R_stop = np.maximum(R_start, (R_stop - np.maximum(Z_stop-Zs,0))).tolist()\n",
        "Z_stop = (np.minimum(Z_stop,Zs)).tolist()\n",
        "r = [slice(start,stop) for start,stop in zip(R_start,R_stop)]\n",
        "z = [slice(start,stop) for start,stop in zip(Z_start,Z_stop)]\n",
        "R[r] = array[z]\n",
        "print(array)\n",
        "print(R)"
      ]
    },
    {
      "cell_type": "markdown",
      "id": "cc27e944",
      "metadata": {
        "id": "cc27e944"
      },
      "source": [
        "#### 81. Consider an array Z = [1,2,3,4,5,6,7,8,9,10,11,12,13,14], how to generate an array R = [[1,2,3,4], [2,3,4,5], [3,4,5,6], ..., [11,12,13,14]]? (★★★)"
      ]
    },
    {
      "cell_type": "code",
      "execution_count": null,
      "id": "2fdaa26c",
      "metadata": {
        "id": "2fdaa26c",
        "colab": {
          "base_uri": "https://localhost:8080/"
        },
        "outputId": "0ad9b328-1d24-4c93-874f-456d648fb679"
      },
      "outputs": [
        {
          "output_type": "stream",
          "name": "stdout",
          "text": [
            "[[ 1  2  3  4]\n",
            " [ 2  3  4  5]\n",
            " [ 3  4  5  6]\n",
            " [ 4  5  6  7]\n",
            " [ 5  6  7  8]\n",
            " [ 6  7  8  9]\n",
            " [ 7  8  9 10]\n",
            " [ 8  9 10 11]\n",
            " [ 9 10 11 12]\n",
            " [10 11 12 13]\n",
            " [11 12 13 14]]\n"
          ]
        }
      ],
      "source": [
        "Z = np.arange(1,15,dtype=np.uint32)\n",
        "R = stride_tricks.as_strided(Z,(11,4),(4,4))\n",
        "print(R)"
      ]
    },
    {
      "cell_type": "markdown",
      "id": "9bc44d6e",
      "metadata": {
        "id": "9bc44d6e"
      },
      "source": [
        "#### 82. Compute a matrix rank (★★★)"
      ]
    },
    {
      "cell_type": "code",
      "execution_count": null,
      "id": "3a4c7564",
      "metadata": {
        "id": "3a4c7564",
        "colab": {
          "base_uri": "https://localhost:8080/"
        },
        "outputId": "a2f2cd1c-564a-48cf-8dac-9502d1870c30"
      },
      "outputs": [
        {
          "output_type": "stream",
          "name": "stdout",
          "text": [
            "10\n"
          ]
        }
      ],
      "source": [
        "matrix = np.random.uniform(0,1,(10,10))\n",
        "U, S, V = np.linalg.svd(matrix) # Singular Value Decomposition\n",
        "rank = np.sum(S > 1e-10)\n",
        "print(rank)"
      ]
    },
    {
      "cell_type": "markdown",
      "id": "718a82dd",
      "metadata": {
        "id": "718a82dd"
      },
      "source": [
        "#### 83. How to find the most frequent value in an array?"
      ]
    },
    {
      "cell_type": "code",
      "execution_count": null,
      "id": "8ffc513c",
      "metadata": {
        "id": "8ffc513c",
        "colab": {
          "base_uri": "https://localhost:8080/"
        },
        "outputId": "7b96e7c2-b8c9-430e-f0ed-476d99dea385"
      },
      "outputs": [
        {
          "output_type": "stream",
          "name": "stdout",
          "text": [
            "7\n"
          ]
        }
      ],
      "source": [
        "array = np.random.randint(0,10,50)\n",
        "print(np.bincount(array).argmax())"
      ]
    },
    {
      "cell_type": "markdown",
      "id": "754ceeba",
      "metadata": {
        "id": "754ceeba"
      },
      "source": [
        "#### 84. Extract all the contiguous 3x3 blocks from a random 10x10 matrix (★★★)"
      ]
    },
    {
      "cell_type": "code",
      "execution_count": null,
      "id": "c32bb120",
      "metadata": {
        "id": "c32bb120",
        "colab": {
          "base_uri": "https://localhost:8080/"
        },
        "outputId": "83ba98f0-d7a6-452f-e670-891ceb975a06"
      },
      "outputs": [
        {
          "output_type": "stream",
          "name": "stdout",
          "text": [
            "[[[[2 3 0]\n",
            "   [1 3 0]\n",
            "   [3 3 2]]\n",
            "\n",
            "  [[3 0 4]\n",
            "   [3 0 1]\n",
            "   [3 2 3]]\n",
            "\n",
            "  [[0 4 1]\n",
            "   [0 1 4]\n",
            "   [2 3 2]]\n",
            "\n",
            "  [[4 1 0]\n",
            "   [1 4 0]\n",
            "   [3 2 1]]\n",
            "\n",
            "  [[1 0 4]\n",
            "   [4 0 4]\n",
            "   [2 1 0]]\n",
            "\n",
            "  [[0 4 1]\n",
            "   [0 4 0]\n",
            "   [1 0 3]]\n",
            "\n",
            "  [[4 1 2]\n",
            "   [4 0 2]\n",
            "   [0 3 1]]\n",
            "\n",
            "  [[1 2 4]\n",
            "   [0 2 3]\n",
            "   [3 1 0]]]\n",
            "\n",
            "\n",
            " [[[1 3 0]\n",
            "   [3 3 2]\n",
            "   [2 2 1]]\n",
            "\n",
            "  [[3 0 1]\n",
            "   [3 2 3]\n",
            "   [2 1 4]]\n",
            "\n",
            "  [[0 1 4]\n",
            "   [2 3 2]\n",
            "   [1 4 0]]\n",
            "\n",
            "  [[1 4 0]\n",
            "   [3 2 1]\n",
            "   [4 0 2]]\n",
            "\n",
            "  [[4 0 4]\n",
            "   [2 1 0]\n",
            "   [0 2 4]]\n",
            "\n",
            "  [[0 4 0]\n",
            "   [1 0 3]\n",
            "   [2 4 2]]\n",
            "\n",
            "  [[4 0 2]\n",
            "   [0 3 1]\n",
            "   [4 2 2]]\n",
            "\n",
            "  [[0 2 3]\n",
            "   [3 1 0]\n",
            "   [2 2 2]]]\n",
            "\n",
            "\n",
            " [[[3 3 2]\n",
            "   [2 2 1]\n",
            "   [2 2 3]]\n",
            "\n",
            "  [[3 2 3]\n",
            "   [2 1 4]\n",
            "   [2 3 0]]\n",
            "\n",
            "  [[2 3 2]\n",
            "   [1 4 0]\n",
            "   [3 0 1]]\n",
            "\n",
            "  [[3 2 1]\n",
            "   [4 0 2]\n",
            "   [0 1 1]]\n",
            "\n",
            "  [[2 1 0]\n",
            "   [0 2 4]\n",
            "   [1 1 0]]\n",
            "\n",
            "  [[1 0 3]\n",
            "   [2 4 2]\n",
            "   [1 0 2]]\n",
            "\n",
            "  [[0 3 1]\n",
            "   [4 2 2]\n",
            "   [0 2 4]]\n",
            "\n",
            "  [[3 1 0]\n",
            "   [2 2 2]\n",
            "   [2 4 3]]]\n",
            "\n",
            "\n",
            " [[[2 2 1]\n",
            "   [2 2 3]\n",
            "   [0 2 4]]\n",
            "\n",
            "  [[2 1 4]\n",
            "   [2 3 0]\n",
            "   [2 4 3]]\n",
            "\n",
            "  [[1 4 0]\n",
            "   [3 0 1]\n",
            "   [4 3 4]]\n",
            "\n",
            "  [[4 0 2]\n",
            "   [0 1 1]\n",
            "   [3 4 2]]\n",
            "\n",
            "  [[0 2 4]\n",
            "   [1 1 0]\n",
            "   [4 2 0]]\n",
            "\n",
            "  [[2 4 2]\n",
            "   [1 0 2]\n",
            "   [2 0 3]]\n",
            "\n",
            "  [[4 2 2]\n",
            "   [0 2 4]\n",
            "   [0 3 3]]\n",
            "\n",
            "  [[2 2 2]\n",
            "   [2 4 3]\n",
            "   [3 3 0]]]\n",
            "\n",
            "\n",
            " [[[2 2 3]\n",
            "   [0 2 4]\n",
            "   [4 4 1]]\n",
            "\n",
            "  [[2 3 0]\n",
            "   [2 4 3]\n",
            "   [4 1 4]]\n",
            "\n",
            "  [[3 0 1]\n",
            "   [4 3 4]\n",
            "   [1 4 3]]\n",
            "\n",
            "  [[0 1 1]\n",
            "   [3 4 2]\n",
            "   [4 3 2]]\n",
            "\n",
            "  [[1 1 0]\n",
            "   [4 2 0]\n",
            "   [3 2 0]]\n",
            "\n",
            "  [[1 0 2]\n",
            "   [2 0 3]\n",
            "   [2 0 2]]\n",
            "\n",
            "  [[0 2 4]\n",
            "   [0 3 3]\n",
            "   [0 2 1]]\n",
            "\n",
            "  [[2 4 3]\n",
            "   [3 3 0]\n",
            "   [2 1 4]]]\n",
            "\n",
            "\n",
            " [[[0 2 4]\n",
            "   [4 4 1]\n",
            "   [4 4 1]]\n",
            "\n",
            "  [[2 4 3]\n",
            "   [4 1 4]\n",
            "   [4 1 0]]\n",
            "\n",
            "  [[4 3 4]\n",
            "   [1 4 3]\n",
            "   [1 0 4]]\n",
            "\n",
            "  [[3 4 2]\n",
            "   [4 3 2]\n",
            "   [0 4 2]]\n",
            "\n",
            "  [[4 2 0]\n",
            "   [3 2 0]\n",
            "   [4 2 2]]\n",
            "\n",
            "  [[2 0 3]\n",
            "   [2 0 2]\n",
            "   [2 2 3]]\n",
            "\n",
            "  [[0 3 3]\n",
            "   [0 2 1]\n",
            "   [2 3 3]]\n",
            "\n",
            "  [[3 3 0]\n",
            "   [2 1 4]\n",
            "   [3 3 3]]]\n",
            "\n",
            "\n",
            " [[[4 4 1]\n",
            "   [4 4 1]\n",
            "   [1 0 2]]\n",
            "\n",
            "  [[4 1 4]\n",
            "   [4 1 0]\n",
            "   [0 2 0]]\n",
            "\n",
            "  [[1 4 3]\n",
            "   [1 0 4]\n",
            "   [2 0 0]]\n",
            "\n",
            "  [[4 3 2]\n",
            "   [0 4 2]\n",
            "   [0 0 1]]\n",
            "\n",
            "  [[3 2 0]\n",
            "   [4 2 2]\n",
            "   [0 1 3]]\n",
            "\n",
            "  [[2 0 2]\n",
            "   [2 2 3]\n",
            "   [1 3 3]]\n",
            "\n",
            "  [[0 2 1]\n",
            "   [2 3 3]\n",
            "   [3 3 3]]\n",
            "\n",
            "  [[2 1 4]\n",
            "   [3 3 3]\n",
            "   [3 3 2]]]\n",
            "\n",
            "\n",
            " [[[4 4 1]\n",
            "   [1 0 2]\n",
            "   [0 1 4]]\n",
            "\n",
            "  [[4 1 0]\n",
            "   [0 2 0]\n",
            "   [1 4 2]]\n",
            "\n",
            "  [[1 0 4]\n",
            "   [2 0 0]\n",
            "   [4 2 2]]\n",
            "\n",
            "  [[0 4 2]\n",
            "   [0 0 1]\n",
            "   [2 2 2]]\n",
            "\n",
            "  [[4 2 2]\n",
            "   [0 1 3]\n",
            "   [2 2 1]]\n",
            "\n",
            "  [[2 2 3]\n",
            "   [1 3 3]\n",
            "   [2 1 0]]\n",
            "\n",
            "  [[2 3 3]\n",
            "   [3 3 3]\n",
            "   [1 0 4]]\n",
            "\n",
            "  [[3 3 3]\n",
            "   [3 3 2]\n",
            "   [0 4 2]]]]\n"
          ]
        }
      ],
      "source": [
        "matrix = np.random.randint(0,5,(10,10))\n",
        "n = 3\n",
        "i = 1 + (matrix.shape[0]-3)\n",
        "j = 1 + (matrix.shape[1]-3)\n",
        "C = stride_tricks.as_strided(matrix, shape=(i, j, n, n), strides=matrix.strides + matrix.strides)\n",
        "print(C)"
      ]
    },
    {
      "cell_type": "markdown",
      "id": "9fc0b63a",
      "metadata": {
        "id": "9fc0b63a"
      },
      "source": [
        "#### 85. Create a 2D array subclass such that Z[i,j] == Z[j,i] (★★★)"
      ]
    },
    {
      "cell_type": "code",
      "execution_count": null,
      "id": "c41d0f9b",
      "metadata": {
        "id": "c41d0f9b",
        "colab": {
          "base_uri": "https://localhost:8080/"
        },
        "outputId": "07ebf9c9-5d40-42cd-be4f-b9fc4f64f941"
      },
      "outputs": [
        {
          "output_type": "stream",
          "name": "stdout",
          "text": [
            "[[ 3  9  3  6  8]\n",
            " [ 9  7  6  5  5]\n",
            " [ 3  6  8 42  8]\n",
            " [ 6  5 42  8  4]\n",
            " [ 8  5  8  4  8]]\n"
          ]
        }
      ],
      "source": [
        "class Symetric(np.ndarray):\n",
        "    def __setitem__(self, index, value):\n",
        "        i,j = index\n",
        "        super(Symetric, self).__setitem__((i,j), value)\n",
        "        super(Symetric, self).__setitem__((j,i), value)\n",
        "def symetric(Z):\n",
        "    return np.asarray(Z + Z.T - np.diag(Z.diagonal())).view(Symetric)\n",
        "S = symetric(np.random.randint(0,10,(5,5)))\n",
        "S[2,3] = 42\n",
        "print(S)"
      ]
    },
    {
      "cell_type": "markdown",
      "id": "ae909782",
      "metadata": {
        "id": "ae909782"
      },
      "source": [
        "#### 86. Consider a set of p matrices wich shape (n,n) and a set of p vectors with shape (n,1). How to compute the sum of of the p matrix products at once? (result has shape (n,1)) (★★★)"
      ]
    },
    {
      "cell_type": "code",
      "execution_count": null,
      "id": "013944b1",
      "metadata": {
        "id": "013944b1",
        "colab": {
          "base_uri": "https://localhost:8080/"
        },
        "outputId": "4f079406-d030-4f63-dca1-35dd80a7951b"
      },
      "outputs": [
        {
          "output_type": "stream",
          "name": "stdout",
          "text": [
            "[[200.]\n",
            " [200.]\n",
            " [200.]\n",
            " [200.]\n",
            " [200.]\n",
            " [200.]\n",
            " [200.]\n",
            " [200.]\n",
            " [200.]\n",
            " [200.]\n",
            " [200.]\n",
            " [200.]\n",
            " [200.]\n",
            " [200.]\n",
            " [200.]\n",
            " [200.]\n",
            " [200.]\n",
            " [200.]\n",
            " [200.]\n",
            " [200.]]\n"
          ]
        }
      ],
      "source": [
        "p, n = 10, 20\n",
        "M = np.ones((p,n,n))\n",
        "V = np.ones((p,n,1))\n",
        "S = np.tensordot(M, V, axes=[[0, 2], [0, 1]])\n",
        "print(S)"
      ]
    },
    {
      "cell_type": "markdown",
      "id": "5f134bf4",
      "metadata": {
        "id": "5f134bf4"
      },
      "source": [
        "#### 87. Consider a 16x16 array, how to get the block-sum (block size is 4x4)? (★★★)"
      ]
    },
    {
      "cell_type": "code",
      "execution_count": null,
      "id": "bf480005",
      "metadata": {
        "id": "bf480005",
        "colab": {
          "base_uri": "https://localhost:8080/"
        },
        "outputId": "0575566d-4531-4f6d-ee4c-08a70b015b6e"
      },
      "outputs": [
        {
          "output_type": "stream",
          "name": "stdout",
          "text": [
            "[[16. 16. 16. 16.]\n",
            " [16. 16. 16. 16.]\n",
            " [16. 16. 16. 16.]\n",
            " [16. 16. 16. 16.]]\n"
          ]
        }
      ],
      "source": [
        "array = np.ones((16,16))\n",
        "k = 4\n",
        "S = np.add.reduceat(np.add.reduceat(array, np.arange(0, array.shape[0], k), axis=0),\n",
        "                                       np.arange(0, array.shape[1], k), axis=1)\n",
        "print(S)"
      ]
    },
    {
      "cell_type": "markdown",
      "id": "aa91a3be",
      "metadata": {
        "id": "aa91a3be"
      },
      "source": [
        "#### 88. How to implement the Game of Life using numpy arrays? (★★★)"
      ]
    },
    {
      "cell_type": "code",
      "execution_count": null,
      "id": "a20f0e2b",
      "metadata": {
        "id": "a20f0e2b"
      },
      "outputs": [],
      "source": [
        "def iterate(array):\n",
        "    # Count neighbours\n",
        "    N = (array[0:-2,0:-2] + array[0:-2,1:-1] + array[0:-2,2:] +\n",
        "         array[1:-1,0:-2]                + array[1:-1,2:] +\n",
        "         array[2:  ,0:-2] + array[2:  ,1:-1] + array[2:  ,2:])\n",
        "    # Apply rules\n",
        "    birth = (N==3) & (array[1:-1,1:-1]==0)\n",
        "    survive = ((N==2) | (N==3)) & (array[1:-1,1:-1]==1)\n",
        "    array[...] = 0\n",
        "    array[1:-1,1:-1][birth | survive] = 1\n",
        "    return Z\n",
        "array = np.random.randint(0,2,(50,50))\n",
        "for i in range(100): array = iterate(array)\n",
        "print(array)"
      ]
    },
    {
      "cell_type": "markdown",
      "id": "885023d9",
      "metadata": {
        "id": "885023d9"
      },
      "source": [
        "#### 89. How to get the n largest values of an array (★★★)"
      ]
    },
    {
      "cell_type": "code",
      "execution_count": null,
      "id": "996ab585",
      "metadata": {
        "id": "996ab585",
        "colab": {
          "base_uri": "https://localhost:8080/"
        },
        "outputId": "04ee065d-cd3c-40fb-d8e4-399124331ea1"
      },
      "outputs": [
        {
          "output_type": "stream",
          "name": "stdout",
          "text": [
            "[9995 9996 9997 9998 9999]\n",
            "[9995 9999 9998 9997 9996]\n"
          ]
        }
      ],
      "source": [
        "array = np.arange(10000)\n",
        "np.random.shuffle(Z)\n",
        "n = 5\n",
        "\n",
        "print (array[np.argsort(array)[-n:]])\n",
        "\n",
        "print (array[np.argpartition(-array,n)[:n]])"
      ]
    },
    {
      "cell_type": "markdown",
      "id": "d0518aeb",
      "metadata": {
        "id": "d0518aeb"
      },
      "source": [
        "#### 90. Given an arbitrary number of vectors, build the cartesian product (every combinations of every item) (★★★)"
      ]
    },
    {
      "cell_type": "code",
      "execution_count": null,
      "id": "d9ae30ca",
      "metadata": {
        "id": "d9ae30ca",
        "colab": {
          "base_uri": "https://localhost:8080/"
        },
        "outputId": "4e2b1452-6bd7-4ff9-b471-64867d7857f6"
      },
      "outputs": [
        {
          "output_type": "stream",
          "name": "stdout",
          "text": [
            "[[1 4 6]\n",
            " [1 4 7]\n",
            " [1 5 6]\n",
            " [1 5 7]\n",
            " [2 4 6]\n",
            " [2 4 7]\n",
            " [2 5 6]\n",
            " [2 5 7]\n",
            " [3 4 6]\n",
            " [3 4 7]\n",
            " [3 5 6]\n",
            " [3 5 7]]\n"
          ]
        }
      ],
      "source": [
        "def cartesian(arrays):\n",
        "    arrays = [np.asarray(a) for a in arrays]\n",
        "    shape = (len(x) for x in arrays)\n",
        "    ix = np.indices(shape, dtype=int)\n",
        "    ix = ix.reshape(len(arrays), -1).T\n",
        "    for n, arr in enumerate(arrays):\n",
        "        ix[:, n] = arrays[n][ix[:, n]]\n",
        "    return ix\n",
        "print (cartesian(([1, 2, 3], [4, 5], [6, 7])))"
      ]
    },
    {
      "cell_type": "markdown",
      "id": "20cc5dc6",
      "metadata": {
        "id": "20cc5dc6"
      },
      "source": [
        "#### 91. How to create a record array from a regular array? (★★★)"
      ]
    },
    {
      "cell_type": "code",
      "execution_count": null,
      "id": "a7d05a34",
      "metadata": {
        "id": "a7d05a34",
        "colab": {
          "base_uri": "https://localhost:8080/"
        },
        "outputId": "fb8b699a-434b-44dd-ae93-f8f5f0bab463"
      },
      "outputs": [
        {
          "output_type": "stream",
          "name": "stdout",
          "text": [
            "[(b'Hello', 2.5, 3) (b'World', 3.6, 2)]\n"
          ]
        }
      ],
      "source": [
        "array = np.array([(\"Hello\", 2.5, 3),\n",
        "              (\"World\", 3.6, 2)])\n",
        "R = np.core.records.fromarrays(array.T,\n",
        "                               names='col1, col2, col3',\n",
        "                               formats = 'S8, f8, i8')\n",
        "print(R)"
      ]
    },
    {
      "cell_type": "markdown",
      "id": "e59a2c44",
      "metadata": {
        "id": "e59a2c44"
      },
      "source": [
        "#### 92. Consider a large vector Z, compute Z to the power of 3 using 3 different methods (★★★)"
      ]
    },
    {
      "cell_type": "code",
      "execution_count": null,
      "id": "916168ea",
      "metadata": {
        "id": "916168ea",
        "colab": {
          "base_uri": "https://localhost:8080/"
        },
        "outputId": "20e99dbd-2fb0-44c5-8b20-7c0638a7f567"
      },
      "outputs": [
        {
          "output_type": "stream",
          "name": "stdout",
          "text": [
            "827 ms ± 145 ms per loop (mean ± std. dev. of 7 runs, 1 loop each)\n",
            "95.9 ms ± 1.47 ms per loop (mean ± std. dev. of 7 runs, 10 loops each)\n",
            "91.7 ms ± 4.06 ms per loop (mean ± std. dev. of 7 runs, 10 loops each)\n"
          ]
        }
      ],
      "source": [
        "Z = np.random.rand(int(5e7))\n",
        "%timeit np.power(Z,3)\n",
        "%timeit Z*Z*Z\n",
        "%timeit np.einsum('i,i,i->i',Z,Z,Z)"
      ]
    },
    {
      "cell_type": "markdown",
      "id": "f1fc4b70",
      "metadata": {
        "id": "f1fc4b70"
      },
      "source": [
        "#### 93. Consider two arrays A and B of shape (8,3) and (2,2). How to find rows of A that contain elements of each row of B regardless of the order of the elements in B? (★★★)"
      ]
    },
    {
      "cell_type": "code",
      "execution_count": null,
      "id": "d35b4705",
      "metadata": {
        "id": "d35b4705",
        "colab": {
          "base_uri": "https://localhost:8080/"
        },
        "outputId": "abb1dc10-207f-44d1-a52c-80a9719be261"
      },
      "outputs": [
        {
          "output_type": "stream",
          "name": "stdout",
          "text": [
            "[0 7]\n"
          ]
        }
      ],
      "source": [
        "A = np.random.randint(0,5,(8,3))\n",
        "B = np.random.randint(0,5,(2,2))\n",
        "C = (A[..., np.newaxis, np.newaxis] == B)\n",
        "rows = np.where(C.any((3,1)).all(1))[0]\n",
        "print(rows)"
      ]
    },
    {
      "cell_type": "markdown",
      "id": "821a6ce8",
      "metadata": {
        "id": "821a6ce8"
      },
      "source": [
        "#### 94. Considering a 10x3 matrix, extract rows with unequal values (e.g. [2,2,3]) (★★★)"
      ]
    },
    {
      "cell_type": "code",
      "execution_count": null,
      "id": "5690c131",
      "metadata": {
        "id": "5690c131",
        "colab": {
          "base_uri": "https://localhost:8080/"
        },
        "outputId": "6e0a094b-f26b-4da3-9f23-2711c68d6a5d"
      },
      "outputs": [
        {
          "output_type": "stream",
          "name": "stdout",
          "text": [
            "[[2 4 0]\n",
            " [3 4 0]\n",
            " [4 1 3]\n",
            " [4 3 0]\n",
            " [1 2 1]\n",
            " [2 0 2]\n",
            " [1 4 0]\n",
            " [1 1 2]\n",
            " [3 1 0]\n",
            " [2 4 2]]\n",
            "[[2 4 0]\n",
            " [3 4 0]\n",
            " [4 1 3]\n",
            " [4 3 0]\n",
            " [1 2 1]\n",
            " [2 0 2]\n",
            " [1 4 0]\n",
            " [1 1 2]\n",
            " [3 1 0]\n",
            " [2 4 2]]\n",
            "[[2 4 0]\n",
            " [3 4 0]\n",
            " [4 1 3]\n",
            " [4 3 0]\n",
            " [1 2 1]\n",
            " [2 0 2]\n",
            " [1 4 0]\n",
            " [1 1 2]\n",
            " [3 1 0]\n",
            " [2 4 2]]\n"
          ]
        }
      ],
      "source": [
        "matrix = np.random.randint(0,5,(10,3))\n",
        "print(matrix)\n",
        "\n",
        "E = np.all(matrix[:,1:] == matrix[:,:-1], axis=1)\n",
        "U = matrix[~E]\n",
        "print(U)\n",
        "\n",
        "U = matrix[matrix.max(axis=1) != matrix.min(axis=1),:]\n",
        "print(U)"
      ]
    },
    {
      "cell_type": "markdown",
      "id": "9dc9a61c",
      "metadata": {
        "id": "9dc9a61c"
      },
      "source": [
        "#### 95. Convert a vector of ints into a matrix binary representation (★★★)"
      ]
    },
    {
      "cell_type": "code",
      "execution_count": null,
      "id": "c728306f",
      "metadata": {
        "id": "c728306f",
        "colab": {
          "base_uri": "https://localhost:8080/"
        },
        "outputId": "50ade059-bb6e-4a96-f873-fa076ffe51cc"
      },
      "outputs": [
        {
          "output_type": "stream",
          "name": "stdout",
          "text": [
            "[[0 0 0 0 0 0 0 0]\n",
            " [0 0 0 0 0 0 0 1]\n",
            " [0 0 0 0 0 0 1 0]\n",
            " [0 0 0 0 0 0 1 1]\n",
            " [0 0 0 0 1 1 1 1]\n",
            " [0 0 0 1 0 0 0 0]\n",
            " [0 0 1 0 0 0 0 0]\n",
            " [0 1 0 0 0 0 0 0]\n",
            " [1 0 0 0 0 0 0 0]]\n",
            "[[0 0 0 0 0 0 0 0]\n",
            " [0 0 0 0 0 0 0 1]\n",
            " [0 0 0 0 0 0 1 0]\n",
            " [0 0 0 0 0 0 1 1]\n",
            " [0 0 0 0 1 1 1 1]\n",
            " [0 0 0 1 0 0 0 0]\n",
            " [0 0 1 0 0 0 0 0]\n",
            " [0 1 0 0 0 0 0 0]\n",
            " [1 0 0 0 0 0 0 0]]\n"
          ]
        }
      ],
      "source": [
        "I = np.array([0, 1, 2, 3, 15, 16, 32, 64, 128])\n",
        "B = ((I.reshape(-1,1) & (2**np.arange(8))) != 0).astype(int)\n",
        "print(B[:,::-1])\n",
        "\n",
        "I = np.array([0, 1, 2, 3, 15, 16, 32, 64, 128], dtype=np.uint8)\n",
        "print(np.unpackbits(I[:, np.newaxis], axis=1))"
      ]
    },
    {
      "cell_type": "markdown",
      "id": "cca48e6e",
      "metadata": {
        "id": "cca48e6e"
      },
      "source": [
        "#### 96. Given a two dimensional array, how to extract unique rows? (★★★)"
      ]
    },
    {
      "cell_type": "code",
      "execution_count": null,
      "id": "ae2e6484",
      "metadata": {
        "id": "ae2e6484",
        "colab": {
          "base_uri": "https://localhost:8080/"
        },
        "outputId": "a20374b5-013f-4a88-b25a-221b6b2d90ed"
      },
      "outputs": [
        {
          "output_type": "stream",
          "name": "stdout",
          "text": [
            "[[0 0 0]\n",
            " [0 1 0]\n",
            " [0 1 1]\n",
            " [1 0 0]\n",
            " [1 1 1]]\n",
            "[[0 0 0]\n",
            " [0 1 0]\n",
            " [0 1 1]\n",
            " [1 0 0]\n",
            " [1 1 1]]\n"
          ]
        }
      ],
      "source": [
        "array = np.random.randint(0,2,(6,3))\n",
        "T = np.ascontiguousarray(array).view(np.dtype((np.void, array.dtype.itemsize * array.shape[1])))\n",
        "_, idx = np.unique(T, return_index=True)\n",
        "uZ = array[idx]\n",
        "print(uZ)\n",
        "\n",
        "uZ = np.unique(array, axis=0)\n",
        "print(uZ)"
      ]
    },
    {
      "cell_type": "markdown",
      "id": "3621d474",
      "metadata": {
        "id": "3621d474"
      },
      "source": [
        "#### 97. Considering 2 vectors A & B, write the einsum equivalent of inner, outer, sum, and mul function (★★★)"
      ]
    },
    {
      "cell_type": "code",
      "execution_count": null,
      "id": "09238dfb",
      "metadata": {
        "id": "09238dfb",
        "colab": {
          "base_uri": "https://localhost:8080/"
        },
        "outputId": "66512184-f6a1-49c1-a886-4fd9a3589e2e"
      },
      "outputs": [
        {
          "output_type": "execute_result",
          "data": {
            "text/plain": [
              "array([[0.21118331, 0.25038938, 0.04353678, 0.13680739, 0.19500757,\n",
              "        0.01818565, 0.15000447, 0.19620081, 0.26549917, 0.26540383],\n",
              "       [0.20668584, 0.24505695, 0.0426096 , 0.13389386, 0.19085458,\n",
              "        0.01779835, 0.14680989, 0.19202241, 0.25984496, 0.25975164],\n",
              "       [0.34210346, 0.40561478, 0.0705268 , 0.22161921, 0.31589979,\n",
              "        0.02945958, 0.24299764, 0.31783276, 0.43009168, 0.42993722],\n",
              "       [0.37113471, 0.44003567, 0.07651178, 0.24042605, 0.34270738,\n",
              "        0.03195955, 0.26361867, 0.34480438, 0.4665897 , 0.46642214],\n",
              "       [0.2565019 , 0.30412134, 0.0528795 , 0.16616538, 0.23685495,\n",
              "        0.02208817, 0.18219447, 0.23830425, 0.3224736 , 0.32235779],\n",
              "       [0.27889511, 0.33067184, 0.057496  , 0.180672  , 0.25753294,\n",
              "        0.02401652, 0.19810047, 0.25910877, 0.35062629, 0.35050038],\n",
              "       [0.69304818, 0.8217122 , 0.14287629, 0.44896592, 0.63996364,\n",
              "        0.05968051, 0.49227527, 0.64387954, 0.87129857, 0.87098567],\n",
              "       [0.21754032, 0.25792657, 0.04484732, 0.14092554, 0.20087766,\n",
              "        0.01873307, 0.15451988, 0.20210682, 0.27349119, 0.27339298],\n",
              "       [0.51527889, 0.61094013, 0.10622802, 0.33380458, 0.47581072,\n",
              "        0.04437225, 0.36600493, 0.47872218, 0.64780742, 0.64757479],\n",
              "       [0.27150339, 0.32190785, 0.05597215, 0.17588354, 0.25070739,\n",
              "        0.02337999, 0.19285009, 0.25224145, 0.34133343, 0.34121086]])"
            ]
          },
          "metadata": {},
          "execution_count": 106
        }
      ],
      "source": [
        "A = np.random.uniform(0,1,10)\n",
        "B = np.random.uniform(0,1,10)\n",
        "np.einsum('i->', A)       \n",
        "np.einsum('i,i->i', A, B) \n",
        "np.einsum('i,i', A, B)    \n",
        "np.einsum('i,j->ij', A, B)    "
      ]
    },
    {
      "cell_type": "markdown",
      "id": "26162fae",
      "metadata": {
        "id": "26162fae"
      },
      "source": [
        "#### 98. Considering a path described by two vectors (X,Y), how to sample it using equidistant samples (★★★)?"
      ]
    },
    {
      "cell_type": "code",
      "execution_count": null,
      "id": "283c279f",
      "metadata": {
        "id": "283c279f"
      },
      "outputs": [],
      "source": [
        "phi = np.arange(0, 10*np.pi, 0.1)\n",
        "a = 1\n",
        "x = a*phi*np.cos(phi)\n",
        "y = a*phi*np.sin(phi)\n",
        "dr = (np.diff(x)**2 + np.diff(y)**2)**.5 \n",
        "r = np.zeros_like(x)\n",
        "r[1:] = np.cumsum(dr)                \n",
        "r_int = np.linspace(0, r.max(), 200) \n",
        "x_int = np.interp(r_int, r, x)       \n",
        "y_int = np.interp(r_int, r, y)"
      ]
    },
    {
      "cell_type": "markdown",
      "id": "44b20c57",
      "metadata": {
        "id": "44b20c57"
      },
      "source": [
        "#### 99. Given an integer n and a 2D array X, select from X the rows which can be interpreted as draws from a multinomial distribution with n degrees, i.e., the rows which only contain integers and which sum to n. (★★★)"
      ]
    },
    {
      "cell_type": "code",
      "execution_count": null,
      "id": "389b7190",
      "metadata": {
        "id": "389b7190",
        "colab": {
          "base_uri": "https://localhost:8080/"
        },
        "outputId": "e9653f28-792e-4859-e6c2-5a340af13ea3"
      },
      "outputs": [
        {
          "output_type": "stream",
          "name": "stdout",
          "text": [
            "[[2. 0. 1. 1.]]\n"
          ]
        }
      ],
      "source": [
        "X = np.asarray([[1.0, 0.0, 3.0, 8.0],\n",
        "                [2.0, 0.0, 1.0, 1.0],\n",
        "                [1.5, 2.5, 1.0, 0.0]])\n",
        "n = 4\n",
        "M = np.logical_and.reduce(np.mod(X, 1) == 0, axis=-1)\n",
        "M &= (X.sum(axis=-1) == n)\n",
        "print(X[M])"
      ]
    },
    {
      "cell_type": "markdown",
      "id": "6fa5ed76",
      "metadata": {
        "id": "6fa5ed76"
      },
      "source": [
        "#### 100. Compute bootstrapped 95% confidence intervals for the mean of a 1D array X (i.e., resample the elements of an array with replacement N times, compute the mean of each sample, and then compute percentiles over the means). (★★★)"
      ]
    },
    {
      "cell_type": "code",
      "execution_count": null,
      "id": "4db4cc57",
      "metadata": {
        "id": "4db4cc57",
        "colab": {
          "base_uri": "https://localhost:8080/"
        },
        "outputId": "fb2f5226-e7cf-4ff0-d79d-7b4d0c78a2de"
      },
      "outputs": [
        {
          "output_type": "stream",
          "name": "stdout",
          "text": [
            "[-0.1856195   0.22199207]\n"
          ]
        }
      ],
      "source": [
        "X = np.random.randn(100) \n",
        "N = 1000 \n",
        "idx = np.random.randint(0, X.size, (N, X.size))\n",
        "means = X[idx].mean(axis=1)\n",
        "confint = np.percentile(means, [2.5, 97.5])\n",
        "print(confint)"
      ]
    }
  ],
  "metadata": {
    "colab": {
      "provenance": [],
      "include_colab_link": true
    },
    "language_info": {
      "name": "python"
    },
    "kernelspec": {
      "name": "python3",
      "display_name": "Python 3"
    },
    "gpuClass": "standard"
  },
  "nbformat": 4,
  "nbformat_minor": 5
}